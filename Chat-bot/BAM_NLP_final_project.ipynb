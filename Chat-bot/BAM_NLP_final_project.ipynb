{
  "nbformat": 4,
  "nbformat_minor": 0,
  "metadata": {
    "colab": {
      "provenance": [],
      "collapsed_sections": [
        "5kATQoqJNyTn",
        "KPlSZUJs2CU7",
        "gQBBAAc9N9oT"
      ]
    },
    "kernelspec": {
      "name": "python3",
      "display_name": "Python 3"
    },
    "language_info": {
      "name": "python"
    },
    "widgets": {
      "application/vnd.jupyter.widget-state+json": {
        "9363cb53d73447b3b80c6f8d5a693fcf": {
          "model_module": "@jupyter-widgets/controls",
          "model_name": "HBoxModel",
          "model_module_version": "1.5.0",
          "state": {
            "_dom_classes": [],
            "_model_module": "@jupyter-widgets/controls",
            "_model_module_version": "1.5.0",
            "_model_name": "HBoxModel",
            "_view_count": null,
            "_view_module": "@jupyter-widgets/controls",
            "_view_module_version": "1.5.0",
            "_view_name": "HBoxView",
            "box_style": "",
            "children": [
              "IPY_MODEL_d387be2755724e99b4c3459e7c27a499",
              "IPY_MODEL_4f34ad3bc8d3433faf421e0c394d39ae",
              "IPY_MODEL_c4cfd77526634f54a312550adee53d3a"
            ],
            "layout": "IPY_MODEL_6a0f3b9658e74617a7542a83d747c969"
          }
        },
        "d387be2755724e99b4c3459e7c27a499": {
          "model_module": "@jupyter-widgets/controls",
          "model_name": "HTMLModel",
          "model_module_version": "1.5.0",
          "state": {
            "_dom_classes": [],
            "_model_module": "@jupyter-widgets/controls",
            "_model_module_version": "1.5.0",
            "_model_name": "HTMLModel",
            "_view_count": null,
            "_view_module": "@jupyter-widgets/controls",
            "_view_module_version": "1.5.0",
            "_view_name": "HTMLView",
            "description": "",
            "description_tooltip": null,
            "layout": "IPY_MODEL_e5e88934489e4a348e09ab5cc9adee95",
            "placeholder": "​",
            "style": "IPY_MODEL_5a77cbf8987449818deb7f6a3881b79d",
            "value": ""
          }
        },
        "4f34ad3bc8d3433faf421e0c394d39ae": {
          "model_module": "@jupyter-widgets/controls",
          "model_name": "FloatProgressModel",
          "model_module_version": "1.5.0",
          "state": {
            "_dom_classes": [],
            "_model_module": "@jupyter-widgets/controls",
            "_model_module_version": "1.5.0",
            "_model_name": "FloatProgressModel",
            "_view_count": null,
            "_view_module": "@jupyter-widgets/controls",
            "_view_module_version": "1.5.0",
            "_view_name": "ProgressView",
            "bar_style": "success",
            "description": "",
            "description_tooltip": null,
            "layout": "IPY_MODEL_4f46c9e0d5ef488b939f1a322034057f",
            "max": 1,
            "min": 0,
            "orientation": "horizontal",
            "style": "IPY_MODEL_e6032b50840643a0bc81bbbaf29e2452",
            "value": 1
          }
        },
        "c4cfd77526634f54a312550adee53d3a": {
          "model_module": "@jupyter-widgets/controls",
          "model_name": "HTMLModel",
          "model_module_version": "1.5.0",
          "state": {
            "_dom_classes": [],
            "_model_module": "@jupyter-widgets/controls",
            "_model_module_version": "1.5.0",
            "_model_name": "HTMLModel",
            "_view_count": null,
            "_view_module": "@jupyter-widgets/controls",
            "_view_module_version": "1.5.0",
            "_view_name": "HTMLView",
            "description": "",
            "description_tooltip": null,
            "layout": "IPY_MODEL_6e3eafcee3e74bbcab59938f0ebd36a5",
            "placeholder": "​",
            "style": "IPY_MODEL_1bd0936af3df4c18b59c32c94d281a3b",
            "value": " 7550926/? [00:46&lt;00:00, 126822.87it/s]"
          }
        },
        "6a0f3b9658e74617a7542a83d747c969": {
          "model_module": "@jupyter-widgets/base",
          "model_name": "LayoutModel",
          "model_module_version": "1.2.0",
          "state": {
            "_model_module": "@jupyter-widgets/base",
            "_model_module_version": "1.2.0",
            "_model_name": "LayoutModel",
            "_view_count": null,
            "_view_module": "@jupyter-widgets/base",
            "_view_module_version": "1.2.0",
            "_view_name": "LayoutView",
            "align_content": null,
            "align_items": null,
            "align_self": null,
            "border": null,
            "bottom": null,
            "display": null,
            "flex": null,
            "flex_flow": null,
            "grid_area": null,
            "grid_auto_columns": null,
            "grid_auto_flow": null,
            "grid_auto_rows": null,
            "grid_column": null,
            "grid_gap": null,
            "grid_row": null,
            "grid_template_areas": null,
            "grid_template_columns": null,
            "grid_template_rows": null,
            "height": null,
            "justify_content": null,
            "justify_items": null,
            "left": null,
            "margin": null,
            "max_height": null,
            "max_width": null,
            "min_height": null,
            "min_width": null,
            "object_fit": null,
            "object_position": null,
            "order": null,
            "overflow": null,
            "overflow_x": null,
            "overflow_y": null,
            "padding": null,
            "right": null,
            "top": null,
            "visibility": null,
            "width": null
          }
        },
        "e5e88934489e4a348e09ab5cc9adee95": {
          "model_module": "@jupyter-widgets/base",
          "model_name": "LayoutModel",
          "model_module_version": "1.2.0",
          "state": {
            "_model_module": "@jupyter-widgets/base",
            "_model_module_version": "1.2.0",
            "_model_name": "LayoutModel",
            "_view_count": null,
            "_view_module": "@jupyter-widgets/base",
            "_view_module_version": "1.2.0",
            "_view_name": "LayoutView",
            "align_content": null,
            "align_items": null,
            "align_self": null,
            "border": null,
            "bottom": null,
            "display": null,
            "flex": null,
            "flex_flow": null,
            "grid_area": null,
            "grid_auto_columns": null,
            "grid_auto_flow": null,
            "grid_auto_rows": null,
            "grid_column": null,
            "grid_gap": null,
            "grid_row": null,
            "grid_template_areas": null,
            "grid_template_columns": null,
            "grid_template_rows": null,
            "height": null,
            "justify_content": null,
            "justify_items": null,
            "left": null,
            "margin": null,
            "max_height": null,
            "max_width": null,
            "min_height": null,
            "min_width": null,
            "object_fit": null,
            "object_position": null,
            "order": null,
            "overflow": null,
            "overflow_x": null,
            "overflow_y": null,
            "padding": null,
            "right": null,
            "top": null,
            "visibility": null,
            "width": null
          }
        },
        "5a77cbf8987449818deb7f6a3881b79d": {
          "model_module": "@jupyter-widgets/controls",
          "model_name": "DescriptionStyleModel",
          "model_module_version": "1.5.0",
          "state": {
            "_model_module": "@jupyter-widgets/controls",
            "_model_module_version": "1.5.0",
            "_model_name": "DescriptionStyleModel",
            "_view_count": null,
            "_view_module": "@jupyter-widgets/base",
            "_view_module_version": "1.2.0",
            "_view_name": "StyleView",
            "description_width": ""
          }
        },
        "4f46c9e0d5ef488b939f1a322034057f": {
          "model_module": "@jupyter-widgets/base",
          "model_name": "LayoutModel",
          "model_module_version": "1.2.0",
          "state": {
            "_model_module": "@jupyter-widgets/base",
            "_model_module_version": "1.2.0",
            "_model_name": "LayoutModel",
            "_view_count": null,
            "_view_module": "@jupyter-widgets/base",
            "_view_module_version": "1.2.0",
            "_view_name": "LayoutView",
            "align_content": null,
            "align_items": null,
            "align_self": null,
            "border": null,
            "bottom": null,
            "display": null,
            "flex": null,
            "flex_flow": null,
            "grid_area": null,
            "grid_auto_columns": null,
            "grid_auto_flow": null,
            "grid_auto_rows": null,
            "grid_column": null,
            "grid_gap": null,
            "grid_row": null,
            "grid_template_areas": null,
            "grid_template_columns": null,
            "grid_template_rows": null,
            "height": null,
            "justify_content": null,
            "justify_items": null,
            "left": null,
            "margin": null,
            "max_height": null,
            "max_width": null,
            "min_height": null,
            "min_width": null,
            "object_fit": null,
            "object_position": null,
            "order": null,
            "overflow": null,
            "overflow_x": null,
            "overflow_y": null,
            "padding": null,
            "right": null,
            "top": null,
            "visibility": null,
            "width": "20px"
          }
        },
        "e6032b50840643a0bc81bbbaf29e2452": {
          "model_module": "@jupyter-widgets/controls",
          "model_name": "ProgressStyleModel",
          "model_module_version": "1.5.0",
          "state": {
            "_model_module": "@jupyter-widgets/controls",
            "_model_module_version": "1.5.0",
            "_model_name": "ProgressStyleModel",
            "_view_count": null,
            "_view_module": "@jupyter-widgets/base",
            "_view_module_version": "1.2.0",
            "_view_name": "StyleView",
            "bar_color": null,
            "description_width": ""
          }
        },
        "6e3eafcee3e74bbcab59938f0ebd36a5": {
          "model_module": "@jupyter-widgets/base",
          "model_name": "LayoutModel",
          "model_module_version": "1.2.0",
          "state": {
            "_model_module": "@jupyter-widgets/base",
            "_model_module_version": "1.2.0",
            "_model_name": "LayoutModel",
            "_view_count": null,
            "_view_module": "@jupyter-widgets/base",
            "_view_module_version": "1.2.0",
            "_view_name": "LayoutView",
            "align_content": null,
            "align_items": null,
            "align_self": null,
            "border": null,
            "bottom": null,
            "display": null,
            "flex": null,
            "flex_flow": null,
            "grid_area": null,
            "grid_auto_columns": null,
            "grid_auto_flow": null,
            "grid_auto_rows": null,
            "grid_column": null,
            "grid_gap": null,
            "grid_row": null,
            "grid_template_areas": null,
            "grid_template_columns": null,
            "grid_template_rows": null,
            "height": null,
            "justify_content": null,
            "justify_items": null,
            "left": null,
            "margin": null,
            "max_height": null,
            "max_width": null,
            "min_height": null,
            "min_width": null,
            "object_fit": null,
            "object_position": null,
            "order": null,
            "overflow": null,
            "overflow_x": null,
            "overflow_y": null,
            "padding": null,
            "right": null,
            "top": null,
            "visibility": null,
            "width": null
          }
        },
        "1bd0936af3df4c18b59c32c94d281a3b": {
          "model_module": "@jupyter-widgets/controls",
          "model_name": "DescriptionStyleModel",
          "model_module_version": "1.5.0",
          "state": {
            "_model_module": "@jupyter-widgets/controls",
            "_model_module_version": "1.5.0",
            "_model_name": "DescriptionStyleModel",
            "_view_count": null,
            "_view_module": "@jupyter-widgets/base",
            "_view_module_version": "1.2.0",
            "_view_name": "StyleView",
            "description_width": ""
          }
        },
        "0b2207b74bee4d47b90b94ac7d100e4f": {
          "model_module": "@jupyter-widgets/controls",
          "model_name": "HBoxModel",
          "model_module_version": "1.5.0",
          "state": {
            "_dom_classes": [],
            "_model_module": "@jupyter-widgets/controls",
            "_model_module_version": "1.5.0",
            "_model_name": "HBoxModel",
            "_view_count": null,
            "_view_module": "@jupyter-widgets/controls",
            "_view_module_version": "1.5.0",
            "_view_name": "HBoxView",
            "box_style": "",
            "children": [
              "IPY_MODEL_cfeb70f1ed294d38924d9e2131c4997e",
              "IPY_MODEL_d0d3f653f59344e3821946835776bbb3",
              "IPY_MODEL_3f0d9dedde7f4f9ca35d52f1b3009684"
            ],
            "layout": "IPY_MODEL_d6d8b253629d42d5813640a2d50fa318"
          }
        },
        "cfeb70f1ed294d38924d9e2131c4997e": {
          "model_module": "@jupyter-widgets/controls",
          "model_name": "HTMLModel",
          "model_module_version": "1.5.0",
          "state": {
            "_dom_classes": [],
            "_model_module": "@jupyter-widgets/controls",
            "_model_module_version": "1.5.0",
            "_model_name": "HTMLModel",
            "_view_count": null,
            "_view_module": "@jupyter-widgets/controls",
            "_view_module_version": "1.5.0",
            "_view_name": "HTMLView",
            "description": "",
            "description_tooltip": null,
            "layout": "IPY_MODEL_deb281b03ebe4394945249bb6b46b4fd",
            "placeholder": "​",
            "style": "IPY_MODEL_0d0bf5c147db4505bf24e32f23bacbb0",
            "value": ""
          }
        },
        "d0d3f653f59344e3821946835776bbb3": {
          "model_module": "@jupyter-widgets/controls",
          "model_name": "FloatProgressModel",
          "model_module_version": "1.5.0",
          "state": {
            "_dom_classes": [],
            "_model_module": "@jupyter-widgets/controls",
            "_model_module_version": "1.5.0",
            "_model_name": "FloatProgressModel",
            "_view_count": null,
            "_view_module": "@jupyter-widgets/controls",
            "_view_module_version": "1.5.0",
            "_view_name": "ProgressView",
            "bar_style": "danger",
            "description": "",
            "description_tooltip": null,
            "layout": "IPY_MODEL_6a5175cebbf347ec8fbe4361612376c0",
            "max": 1,
            "min": 0,
            "orientation": "horizontal",
            "style": "IPY_MODEL_a3c248b1f8f149b1b97c3f95e45ba389",
            "value": 1
          }
        },
        "3f0d9dedde7f4f9ca35d52f1b3009684": {
          "model_module": "@jupyter-widgets/controls",
          "model_name": "HTMLModel",
          "model_module_version": "1.5.0",
          "state": {
            "_dom_classes": [],
            "_model_module": "@jupyter-widgets/controls",
            "_model_module_version": "1.5.0",
            "_model_name": "HTMLModel",
            "_view_count": null,
            "_view_module": "@jupyter-widgets/controls",
            "_view_module_version": "1.5.0",
            "_view_name": "HTMLView",
            "description": "",
            "description_tooltip": null,
            "layout": "IPY_MODEL_60ddf6b5629d4b1ca581189175a501b4",
            "placeholder": "​",
            "style": "IPY_MODEL_2f5807a4bc364b2b9b4377e51e9a5ed4",
            "value": " 354557/? [31:26&lt;00:00, 240.55it/s]"
          }
        },
        "d6d8b253629d42d5813640a2d50fa318": {
          "model_module": "@jupyter-widgets/base",
          "model_name": "LayoutModel",
          "model_module_version": "1.2.0",
          "state": {
            "_model_module": "@jupyter-widgets/base",
            "_model_module_version": "1.2.0",
            "_model_name": "LayoutModel",
            "_view_count": null,
            "_view_module": "@jupyter-widgets/base",
            "_view_module_version": "1.2.0",
            "_view_name": "LayoutView",
            "align_content": null,
            "align_items": null,
            "align_self": null,
            "border": null,
            "bottom": null,
            "display": null,
            "flex": null,
            "flex_flow": null,
            "grid_area": null,
            "grid_auto_columns": null,
            "grid_auto_flow": null,
            "grid_auto_rows": null,
            "grid_column": null,
            "grid_gap": null,
            "grid_row": null,
            "grid_template_areas": null,
            "grid_template_columns": null,
            "grid_template_rows": null,
            "height": null,
            "justify_content": null,
            "justify_items": null,
            "left": null,
            "margin": null,
            "max_height": null,
            "max_width": null,
            "min_height": null,
            "min_width": null,
            "object_fit": null,
            "object_position": null,
            "order": null,
            "overflow": null,
            "overflow_x": null,
            "overflow_y": null,
            "padding": null,
            "right": null,
            "top": null,
            "visibility": null,
            "width": null
          }
        },
        "deb281b03ebe4394945249bb6b46b4fd": {
          "model_module": "@jupyter-widgets/base",
          "model_name": "LayoutModel",
          "model_module_version": "1.2.0",
          "state": {
            "_model_module": "@jupyter-widgets/base",
            "_model_module_version": "1.2.0",
            "_model_name": "LayoutModel",
            "_view_count": null,
            "_view_module": "@jupyter-widgets/base",
            "_view_module_version": "1.2.0",
            "_view_name": "LayoutView",
            "align_content": null,
            "align_items": null,
            "align_self": null,
            "border": null,
            "bottom": null,
            "display": null,
            "flex": null,
            "flex_flow": null,
            "grid_area": null,
            "grid_auto_columns": null,
            "grid_auto_flow": null,
            "grid_auto_rows": null,
            "grid_column": null,
            "grid_gap": null,
            "grid_row": null,
            "grid_template_areas": null,
            "grid_template_columns": null,
            "grid_template_rows": null,
            "height": null,
            "justify_content": null,
            "justify_items": null,
            "left": null,
            "margin": null,
            "max_height": null,
            "max_width": null,
            "min_height": null,
            "min_width": null,
            "object_fit": null,
            "object_position": null,
            "order": null,
            "overflow": null,
            "overflow_x": null,
            "overflow_y": null,
            "padding": null,
            "right": null,
            "top": null,
            "visibility": null,
            "width": null
          }
        },
        "0d0bf5c147db4505bf24e32f23bacbb0": {
          "model_module": "@jupyter-widgets/controls",
          "model_name": "DescriptionStyleModel",
          "model_module_version": "1.5.0",
          "state": {
            "_model_module": "@jupyter-widgets/controls",
            "_model_module_version": "1.5.0",
            "_model_name": "DescriptionStyleModel",
            "_view_count": null,
            "_view_module": "@jupyter-widgets/base",
            "_view_module_version": "1.2.0",
            "_view_name": "StyleView",
            "description_width": ""
          }
        },
        "6a5175cebbf347ec8fbe4361612376c0": {
          "model_module": "@jupyter-widgets/base",
          "model_name": "LayoutModel",
          "model_module_version": "1.2.0",
          "state": {
            "_model_module": "@jupyter-widgets/base",
            "_model_module_version": "1.2.0",
            "_model_name": "LayoutModel",
            "_view_count": null,
            "_view_module": "@jupyter-widgets/base",
            "_view_module_version": "1.2.0",
            "_view_name": "LayoutView",
            "align_content": null,
            "align_items": null,
            "align_self": null,
            "border": null,
            "bottom": null,
            "display": null,
            "flex": null,
            "flex_flow": null,
            "grid_area": null,
            "grid_auto_columns": null,
            "grid_auto_flow": null,
            "grid_auto_rows": null,
            "grid_column": null,
            "grid_gap": null,
            "grid_row": null,
            "grid_template_areas": null,
            "grid_template_columns": null,
            "grid_template_rows": null,
            "height": null,
            "justify_content": null,
            "justify_items": null,
            "left": null,
            "margin": null,
            "max_height": null,
            "max_width": null,
            "min_height": null,
            "min_width": null,
            "object_fit": null,
            "object_position": null,
            "order": null,
            "overflow": null,
            "overflow_x": null,
            "overflow_y": null,
            "padding": null,
            "right": null,
            "top": null,
            "visibility": null,
            "width": "20px"
          }
        },
        "a3c248b1f8f149b1b97c3f95e45ba389": {
          "model_module": "@jupyter-widgets/controls",
          "model_name": "ProgressStyleModel",
          "model_module_version": "1.5.0",
          "state": {
            "_model_module": "@jupyter-widgets/controls",
            "_model_module_version": "1.5.0",
            "_model_name": "ProgressStyleModel",
            "_view_count": null,
            "_view_module": "@jupyter-widgets/base",
            "_view_module_version": "1.2.0",
            "_view_name": "StyleView",
            "bar_color": null,
            "description_width": ""
          }
        },
        "60ddf6b5629d4b1ca581189175a501b4": {
          "model_module": "@jupyter-widgets/base",
          "model_name": "LayoutModel",
          "model_module_version": "1.2.0",
          "state": {
            "_model_module": "@jupyter-widgets/base",
            "_model_module_version": "1.2.0",
            "_model_name": "LayoutModel",
            "_view_count": null,
            "_view_module": "@jupyter-widgets/base",
            "_view_module_version": "1.2.0",
            "_view_name": "LayoutView",
            "align_content": null,
            "align_items": null,
            "align_self": null,
            "border": null,
            "bottom": null,
            "display": null,
            "flex": null,
            "flex_flow": null,
            "grid_area": null,
            "grid_auto_columns": null,
            "grid_auto_flow": null,
            "grid_auto_rows": null,
            "grid_column": null,
            "grid_gap": null,
            "grid_row": null,
            "grid_template_areas": null,
            "grid_template_columns": null,
            "grid_template_rows": null,
            "height": null,
            "justify_content": null,
            "justify_items": null,
            "left": null,
            "margin": null,
            "max_height": null,
            "max_width": null,
            "min_height": null,
            "min_width": null,
            "object_fit": null,
            "object_position": null,
            "order": null,
            "overflow": null,
            "overflow_x": null,
            "overflow_y": null,
            "padding": null,
            "right": null,
            "top": null,
            "visibility": null,
            "width": null
          }
        },
        "2f5807a4bc364b2b9b4377e51e9a5ed4": {
          "model_module": "@jupyter-widgets/controls",
          "model_name": "DescriptionStyleModel",
          "model_module_version": "1.5.0",
          "state": {
            "_model_module": "@jupyter-widgets/controls",
            "_model_module_version": "1.5.0",
            "_model_name": "DescriptionStyleModel",
            "_view_count": null,
            "_view_module": "@jupyter-widgets/base",
            "_view_module_version": "1.2.0",
            "_view_name": "StyleView",
            "description_width": ""
          }
        },
        "f057aa2ca3b74dc4beebdea5d91e3dac": {
          "model_module": "@jupyter-widgets/controls",
          "model_name": "HBoxModel",
          "model_module_version": "1.5.0",
          "state": {
            "_dom_classes": [],
            "_model_module": "@jupyter-widgets/controls",
            "_model_module_version": "1.5.0",
            "_model_name": "HBoxModel",
            "_view_count": null,
            "_view_module": "@jupyter-widgets/controls",
            "_view_module_version": "1.5.0",
            "_view_name": "HBoxView",
            "box_style": "",
            "children": [
              "IPY_MODEL_a04141409fa34e16a0ff8e7fc92a76fc",
              "IPY_MODEL_dac2df75912149b3bb388578c1fd753b",
              "IPY_MODEL_816d2dc177604470b2cd6ad7ded43666"
            ],
            "layout": "IPY_MODEL_040070c4fd4e4ed686f0193d7e4c7046"
          }
        },
        "a04141409fa34e16a0ff8e7fc92a76fc": {
          "model_module": "@jupyter-widgets/controls",
          "model_name": "HTMLModel",
          "model_module_version": "1.5.0",
          "state": {
            "_dom_classes": [],
            "_model_module": "@jupyter-widgets/controls",
            "_model_module_version": "1.5.0",
            "_model_name": "HTMLModel",
            "_view_count": null,
            "_view_module": "@jupyter-widgets/controls",
            "_view_module_version": "1.5.0",
            "_view_name": "HTMLView",
            "description": "",
            "description_tooltip": null,
            "layout": "IPY_MODEL_56666077ad414fa9a3ac43aad2e63d2b",
            "placeholder": "​",
            "style": "IPY_MODEL_9cb5f2eb3f584dd5b7658647b22855d3",
            "value": ""
          }
        },
        "dac2df75912149b3bb388578c1fd753b": {
          "model_module": "@jupyter-widgets/controls",
          "model_name": "FloatProgressModel",
          "model_module_version": "1.5.0",
          "state": {
            "_dom_classes": [],
            "_model_module": "@jupyter-widgets/controls",
            "_model_module_version": "1.5.0",
            "_model_name": "FloatProgressModel",
            "_view_count": null,
            "_view_module": "@jupyter-widgets/controls",
            "_view_module_version": "1.5.0",
            "_view_name": "ProgressView",
            "bar_style": "danger",
            "description": "",
            "description_tooltip": null,
            "layout": "IPY_MODEL_365ee954c30b49b194eb5bf61f08aa35",
            "max": 1,
            "min": 0,
            "orientation": "horizontal",
            "style": "IPY_MODEL_beda8c30acec43a684e14977f790f0d5",
            "value": 1
          }
        },
        "816d2dc177604470b2cd6ad7ded43666": {
          "model_module": "@jupyter-widgets/controls",
          "model_name": "HTMLModel",
          "model_module_version": "1.5.0",
          "state": {
            "_dom_classes": [],
            "_model_module": "@jupyter-widgets/controls",
            "_model_module_version": "1.5.0",
            "_model_name": "HTMLModel",
            "_view_count": null,
            "_view_module": "@jupyter-widgets/controls",
            "_view_module_version": "1.5.0",
            "_view_name": "HTMLView",
            "description": "",
            "description_tooltip": null,
            "layout": "IPY_MODEL_ec0e8e3624054725ba32e64c791ec744",
            "placeholder": "​",
            "style": "IPY_MODEL_0a400a9dc0c74640a070adc67970b88f",
            "value": " 300000/? [27:16&lt;00:00, 183.66it/s]"
          }
        },
        "040070c4fd4e4ed686f0193d7e4c7046": {
          "model_module": "@jupyter-widgets/base",
          "model_name": "LayoutModel",
          "model_module_version": "1.2.0",
          "state": {
            "_model_module": "@jupyter-widgets/base",
            "_model_module_version": "1.2.0",
            "_model_name": "LayoutModel",
            "_view_count": null,
            "_view_module": "@jupyter-widgets/base",
            "_view_module_version": "1.2.0",
            "_view_name": "LayoutView",
            "align_content": null,
            "align_items": null,
            "align_self": null,
            "border": null,
            "bottom": null,
            "display": null,
            "flex": null,
            "flex_flow": null,
            "grid_area": null,
            "grid_auto_columns": null,
            "grid_auto_flow": null,
            "grid_auto_rows": null,
            "grid_column": null,
            "grid_gap": null,
            "grid_row": null,
            "grid_template_areas": null,
            "grid_template_columns": null,
            "grid_template_rows": null,
            "height": null,
            "justify_content": null,
            "justify_items": null,
            "left": null,
            "margin": null,
            "max_height": null,
            "max_width": null,
            "min_height": null,
            "min_width": null,
            "object_fit": null,
            "object_position": null,
            "order": null,
            "overflow": null,
            "overflow_x": null,
            "overflow_y": null,
            "padding": null,
            "right": null,
            "top": null,
            "visibility": null,
            "width": null
          }
        },
        "56666077ad414fa9a3ac43aad2e63d2b": {
          "model_module": "@jupyter-widgets/base",
          "model_name": "LayoutModel",
          "model_module_version": "1.2.0",
          "state": {
            "_model_module": "@jupyter-widgets/base",
            "_model_module_version": "1.2.0",
            "_model_name": "LayoutModel",
            "_view_count": null,
            "_view_module": "@jupyter-widgets/base",
            "_view_module_version": "1.2.0",
            "_view_name": "LayoutView",
            "align_content": null,
            "align_items": null,
            "align_self": null,
            "border": null,
            "bottom": null,
            "display": null,
            "flex": null,
            "flex_flow": null,
            "grid_area": null,
            "grid_auto_columns": null,
            "grid_auto_flow": null,
            "grid_auto_rows": null,
            "grid_column": null,
            "grid_gap": null,
            "grid_row": null,
            "grid_template_areas": null,
            "grid_template_columns": null,
            "grid_template_rows": null,
            "height": null,
            "justify_content": null,
            "justify_items": null,
            "left": null,
            "margin": null,
            "max_height": null,
            "max_width": null,
            "min_height": null,
            "min_width": null,
            "object_fit": null,
            "object_position": null,
            "order": null,
            "overflow": null,
            "overflow_x": null,
            "overflow_y": null,
            "padding": null,
            "right": null,
            "top": null,
            "visibility": null,
            "width": null
          }
        },
        "9cb5f2eb3f584dd5b7658647b22855d3": {
          "model_module": "@jupyter-widgets/controls",
          "model_name": "DescriptionStyleModel",
          "model_module_version": "1.5.0",
          "state": {
            "_model_module": "@jupyter-widgets/controls",
            "_model_module_version": "1.5.0",
            "_model_name": "DescriptionStyleModel",
            "_view_count": null,
            "_view_module": "@jupyter-widgets/base",
            "_view_module_version": "1.2.0",
            "_view_name": "StyleView",
            "description_width": ""
          }
        },
        "365ee954c30b49b194eb5bf61f08aa35": {
          "model_module": "@jupyter-widgets/base",
          "model_name": "LayoutModel",
          "model_module_version": "1.2.0",
          "state": {
            "_model_module": "@jupyter-widgets/base",
            "_model_module_version": "1.2.0",
            "_model_name": "LayoutModel",
            "_view_count": null,
            "_view_module": "@jupyter-widgets/base",
            "_view_module_version": "1.2.0",
            "_view_name": "LayoutView",
            "align_content": null,
            "align_items": null,
            "align_self": null,
            "border": null,
            "bottom": null,
            "display": null,
            "flex": null,
            "flex_flow": null,
            "grid_area": null,
            "grid_auto_columns": null,
            "grid_auto_flow": null,
            "grid_auto_rows": null,
            "grid_column": null,
            "grid_gap": null,
            "grid_row": null,
            "grid_template_areas": null,
            "grid_template_columns": null,
            "grid_template_rows": null,
            "height": null,
            "justify_content": null,
            "justify_items": null,
            "left": null,
            "margin": null,
            "max_height": null,
            "max_width": null,
            "min_height": null,
            "min_width": null,
            "object_fit": null,
            "object_position": null,
            "order": null,
            "overflow": null,
            "overflow_x": null,
            "overflow_y": null,
            "padding": null,
            "right": null,
            "top": null,
            "visibility": null,
            "width": "20px"
          }
        },
        "beda8c30acec43a684e14977f790f0d5": {
          "model_module": "@jupyter-widgets/controls",
          "model_name": "ProgressStyleModel",
          "model_module_version": "1.5.0",
          "state": {
            "_model_module": "@jupyter-widgets/controls",
            "_model_module_version": "1.5.0",
            "_model_name": "ProgressStyleModel",
            "_view_count": null,
            "_view_module": "@jupyter-widgets/base",
            "_view_module_version": "1.2.0",
            "_view_name": "StyleView",
            "bar_color": null,
            "description_width": ""
          }
        },
        "ec0e8e3624054725ba32e64c791ec744": {
          "model_module": "@jupyter-widgets/base",
          "model_name": "LayoutModel",
          "model_module_version": "1.2.0",
          "state": {
            "_model_module": "@jupyter-widgets/base",
            "_model_module_version": "1.2.0",
            "_model_name": "LayoutModel",
            "_view_count": null,
            "_view_module": "@jupyter-widgets/base",
            "_view_module_version": "1.2.0",
            "_view_name": "LayoutView",
            "align_content": null,
            "align_items": null,
            "align_self": null,
            "border": null,
            "bottom": null,
            "display": null,
            "flex": null,
            "flex_flow": null,
            "grid_area": null,
            "grid_auto_columns": null,
            "grid_auto_flow": null,
            "grid_auto_rows": null,
            "grid_column": null,
            "grid_gap": null,
            "grid_row": null,
            "grid_template_areas": null,
            "grid_template_columns": null,
            "grid_template_rows": null,
            "height": null,
            "justify_content": null,
            "justify_items": null,
            "left": null,
            "margin": null,
            "max_height": null,
            "max_width": null,
            "min_height": null,
            "min_width": null,
            "object_fit": null,
            "object_position": null,
            "order": null,
            "overflow": null,
            "overflow_x": null,
            "overflow_y": null,
            "padding": null,
            "right": null,
            "top": null,
            "visibility": null,
            "width": null
          }
        },
        "0a400a9dc0c74640a070adc67970b88f": {
          "model_module": "@jupyter-widgets/controls",
          "model_name": "DescriptionStyleModel",
          "model_module_version": "1.5.0",
          "state": {
            "_model_module": "@jupyter-widgets/controls",
            "_model_module_version": "1.5.0",
            "_model_name": "DescriptionStyleModel",
            "_view_count": null,
            "_view_module": "@jupyter-widgets/base",
            "_view_module_version": "1.2.0",
            "_view_name": "StyleView",
            "description_width": ""
          }
        },
        "5d6a3d487d6e4a0d943c5f7d7192ed5b": {
          "model_module": "@jupyter-widgets/controls",
          "model_name": "HBoxModel",
          "model_module_version": "1.5.0",
          "state": {
            "_dom_classes": [],
            "_model_module": "@jupyter-widgets/controls",
            "_model_module_version": "1.5.0",
            "_model_name": "HBoxModel",
            "_view_count": null,
            "_view_module": "@jupyter-widgets/controls",
            "_view_module_version": "1.5.0",
            "_view_name": "HBoxView",
            "box_style": "",
            "children": [
              "IPY_MODEL_12a9c14d4ed2445ca729110b035b4a24",
              "IPY_MODEL_7fe11952dc284c24b228ae773c16b500",
              "IPY_MODEL_5c87c84bed994c5eacfb8e03445e6e46"
            ],
            "layout": "IPY_MODEL_52823e5693484e34b00e63f854cf9f5c"
          }
        },
        "12a9c14d4ed2445ca729110b035b4a24": {
          "model_module": "@jupyter-widgets/controls",
          "model_name": "HTMLModel",
          "model_module_version": "1.5.0",
          "state": {
            "_dom_classes": [],
            "_model_module": "@jupyter-widgets/controls",
            "_model_module_version": "1.5.0",
            "_model_name": "HTMLModel",
            "_view_count": null,
            "_view_module": "@jupyter-widgets/controls",
            "_view_module_version": "1.5.0",
            "_view_name": "HTMLView",
            "description": "",
            "description_tooltip": null,
            "layout": "IPY_MODEL_f5d2780067944bf6a1d7e857286e7ba0",
            "placeholder": "​",
            "style": "IPY_MODEL_163943dd580545968f68f2a1875ecd3a",
            "value": ""
          }
        },
        "7fe11952dc284c24b228ae773c16b500": {
          "model_module": "@jupyter-widgets/controls",
          "model_name": "FloatProgressModel",
          "model_module_version": "1.5.0",
          "state": {
            "_dom_classes": [],
            "_model_module": "@jupyter-widgets/controls",
            "_model_module_version": "1.5.0",
            "_model_name": "FloatProgressModel",
            "_view_count": null,
            "_view_module": "@jupyter-widgets/controls",
            "_view_module_version": "1.5.0",
            "_view_name": "ProgressView",
            "bar_style": "danger",
            "description": "",
            "description_tooltip": null,
            "layout": "IPY_MODEL_1df759c30d454ec0881b9e72a43e3780",
            "max": 1,
            "min": 0,
            "orientation": "horizontal",
            "style": "IPY_MODEL_3d20c2d3d48a41d5b96d5bde9da3820d",
            "value": 1
          }
        },
        "5c87c84bed994c5eacfb8e03445e6e46": {
          "model_module": "@jupyter-widgets/controls",
          "model_name": "HTMLModel",
          "model_module_version": "1.5.0",
          "state": {
            "_dom_classes": [],
            "_model_module": "@jupyter-widgets/controls",
            "_model_module_version": "1.5.0",
            "_model_name": "HTMLModel",
            "_view_count": null,
            "_view_module": "@jupyter-widgets/controls",
            "_view_module_version": "1.5.0",
            "_view_name": "HTMLView",
            "description": "",
            "description_tooltip": null,
            "layout": "IPY_MODEL_0f3da26aa41d4ac0ae99e5b5510af466",
            "placeholder": "​",
            "style": "IPY_MODEL_e30698812fd441f09c2f4ac8a1284cc7",
            "value": " 300000/? [36:03&lt;00:00, 189.32it/s]"
          }
        },
        "52823e5693484e34b00e63f854cf9f5c": {
          "model_module": "@jupyter-widgets/base",
          "model_name": "LayoutModel",
          "model_module_version": "1.2.0",
          "state": {
            "_model_module": "@jupyter-widgets/base",
            "_model_module_version": "1.2.0",
            "_model_name": "LayoutModel",
            "_view_count": null,
            "_view_module": "@jupyter-widgets/base",
            "_view_module_version": "1.2.0",
            "_view_name": "LayoutView",
            "align_content": null,
            "align_items": null,
            "align_self": null,
            "border": null,
            "bottom": null,
            "display": null,
            "flex": null,
            "flex_flow": null,
            "grid_area": null,
            "grid_auto_columns": null,
            "grid_auto_flow": null,
            "grid_auto_rows": null,
            "grid_column": null,
            "grid_gap": null,
            "grid_row": null,
            "grid_template_areas": null,
            "grid_template_columns": null,
            "grid_template_rows": null,
            "height": null,
            "justify_content": null,
            "justify_items": null,
            "left": null,
            "margin": null,
            "max_height": null,
            "max_width": null,
            "min_height": null,
            "min_width": null,
            "object_fit": null,
            "object_position": null,
            "order": null,
            "overflow": null,
            "overflow_x": null,
            "overflow_y": null,
            "padding": null,
            "right": null,
            "top": null,
            "visibility": null,
            "width": null
          }
        },
        "f5d2780067944bf6a1d7e857286e7ba0": {
          "model_module": "@jupyter-widgets/base",
          "model_name": "LayoutModel",
          "model_module_version": "1.2.0",
          "state": {
            "_model_module": "@jupyter-widgets/base",
            "_model_module_version": "1.2.0",
            "_model_name": "LayoutModel",
            "_view_count": null,
            "_view_module": "@jupyter-widgets/base",
            "_view_module_version": "1.2.0",
            "_view_name": "LayoutView",
            "align_content": null,
            "align_items": null,
            "align_self": null,
            "border": null,
            "bottom": null,
            "display": null,
            "flex": null,
            "flex_flow": null,
            "grid_area": null,
            "grid_auto_columns": null,
            "grid_auto_flow": null,
            "grid_auto_rows": null,
            "grid_column": null,
            "grid_gap": null,
            "grid_row": null,
            "grid_template_areas": null,
            "grid_template_columns": null,
            "grid_template_rows": null,
            "height": null,
            "justify_content": null,
            "justify_items": null,
            "left": null,
            "margin": null,
            "max_height": null,
            "max_width": null,
            "min_height": null,
            "min_width": null,
            "object_fit": null,
            "object_position": null,
            "order": null,
            "overflow": null,
            "overflow_x": null,
            "overflow_y": null,
            "padding": null,
            "right": null,
            "top": null,
            "visibility": null,
            "width": null
          }
        },
        "163943dd580545968f68f2a1875ecd3a": {
          "model_module": "@jupyter-widgets/controls",
          "model_name": "DescriptionStyleModel",
          "model_module_version": "1.5.0",
          "state": {
            "_model_module": "@jupyter-widgets/controls",
            "_model_module_version": "1.5.0",
            "_model_name": "DescriptionStyleModel",
            "_view_count": null,
            "_view_module": "@jupyter-widgets/base",
            "_view_module_version": "1.2.0",
            "_view_name": "StyleView",
            "description_width": ""
          }
        },
        "1df759c30d454ec0881b9e72a43e3780": {
          "model_module": "@jupyter-widgets/base",
          "model_name": "LayoutModel",
          "model_module_version": "1.2.0",
          "state": {
            "_model_module": "@jupyter-widgets/base",
            "_model_module_version": "1.2.0",
            "_model_name": "LayoutModel",
            "_view_count": null,
            "_view_module": "@jupyter-widgets/base",
            "_view_module_version": "1.2.0",
            "_view_name": "LayoutView",
            "align_content": null,
            "align_items": null,
            "align_self": null,
            "border": null,
            "bottom": null,
            "display": null,
            "flex": null,
            "flex_flow": null,
            "grid_area": null,
            "grid_auto_columns": null,
            "grid_auto_flow": null,
            "grid_auto_rows": null,
            "grid_column": null,
            "grid_gap": null,
            "grid_row": null,
            "grid_template_areas": null,
            "grid_template_columns": null,
            "grid_template_rows": null,
            "height": null,
            "justify_content": null,
            "justify_items": null,
            "left": null,
            "margin": null,
            "max_height": null,
            "max_width": null,
            "min_height": null,
            "min_width": null,
            "object_fit": null,
            "object_position": null,
            "order": null,
            "overflow": null,
            "overflow_x": null,
            "overflow_y": null,
            "padding": null,
            "right": null,
            "top": null,
            "visibility": null,
            "width": "20px"
          }
        },
        "3d20c2d3d48a41d5b96d5bde9da3820d": {
          "model_module": "@jupyter-widgets/controls",
          "model_name": "ProgressStyleModel",
          "model_module_version": "1.5.0",
          "state": {
            "_model_module": "@jupyter-widgets/controls",
            "_model_module_version": "1.5.0",
            "_model_name": "ProgressStyleModel",
            "_view_count": null,
            "_view_module": "@jupyter-widgets/base",
            "_view_module_version": "1.2.0",
            "_view_name": "StyleView",
            "bar_color": null,
            "description_width": ""
          }
        },
        "0f3da26aa41d4ac0ae99e5b5510af466": {
          "model_module": "@jupyter-widgets/base",
          "model_name": "LayoutModel",
          "model_module_version": "1.2.0",
          "state": {
            "_model_module": "@jupyter-widgets/base",
            "_model_module_version": "1.2.0",
            "_model_name": "LayoutModel",
            "_view_count": null,
            "_view_module": "@jupyter-widgets/base",
            "_view_module_version": "1.2.0",
            "_view_name": "LayoutView",
            "align_content": null,
            "align_items": null,
            "align_self": null,
            "border": null,
            "bottom": null,
            "display": null,
            "flex": null,
            "flex_flow": null,
            "grid_area": null,
            "grid_auto_columns": null,
            "grid_auto_flow": null,
            "grid_auto_rows": null,
            "grid_column": null,
            "grid_gap": null,
            "grid_row": null,
            "grid_template_areas": null,
            "grid_template_columns": null,
            "grid_template_rows": null,
            "height": null,
            "justify_content": null,
            "justify_items": null,
            "left": null,
            "margin": null,
            "max_height": null,
            "max_width": null,
            "min_height": null,
            "min_width": null,
            "object_fit": null,
            "object_position": null,
            "order": null,
            "overflow": null,
            "overflow_x": null,
            "overflow_y": null,
            "padding": null,
            "right": null,
            "top": null,
            "visibility": null,
            "width": null
          }
        },
        "e30698812fd441f09c2f4ac8a1284cc7": {
          "model_module": "@jupyter-widgets/controls",
          "model_name": "DescriptionStyleModel",
          "model_module_version": "1.5.0",
          "state": {
            "_model_module": "@jupyter-widgets/controls",
            "_model_module_version": "1.5.0",
            "_model_name": "DescriptionStyleModel",
            "_view_count": null,
            "_view_module": "@jupyter-widgets/base",
            "_view_module_version": "1.2.0",
            "_view_name": "StyleView",
            "description_width": ""
          }
        }
      }
    }
  },
  "cells": [
    {
      "cell_type": "code",
      "execution_count": null,
      "metadata": {
        "id": "dLGLHsM5vCQ-"
      },
      "outputs": [],
      "source": [
        "from IPython.display import HTML, display\n",
        "\n",
        "def set_css():\n",
        "  display(HTML('''\n",
        "  <style>\n",
        "    pre {\n",
        "        white-space: pre-wrap;\n",
        "    }\n",
        "  </style>\n",
        "  '''))\n",
        "get_ipython().events.register('pre_run_cell', set_css)"
      ]
    },
    {
      "cell_type": "code",
      "source": [
        "!pip install pymorphy2 stop_words annoy"
      ],
      "metadata": {
        "id": "vYxvMR_ivJfu"
      },
      "execution_count": null,
      "outputs": []
    },
    {
      "cell_type": "code",
      "source": [
        "from tqdm import tqdm_notebook, tqdm, notebook\n",
        "import string\n",
        "import shutil\n",
        "from pymorphy2 import MorphAnalyzer\n",
        "from stop_words import get_stop_words\n",
        "import annoy\n",
        "from gensim.models import FastText\n",
        "import pickle\n",
        "import numpy as np\n",
        "import re\n",
        "import pickle"
      ],
      "metadata": {
        "id": "ti6-Fem2Rlao"
      },
      "execution_count": null,
      "outputs": []
    },
    {
      "cell_type": "markdown",
      "source": [
        "# Модель ответа на общие вопросы"
      ],
      "metadata": {
        "id": "5kATQoqJNyTn"
      }
    },
    {
      "cell_type": "code",
      "source": [
        "# Загружаем файл содержащий вопросы и варианты ответа на них.\n",
        "!wget -O Otvety.txt 'https://drive.google.com/uc?export=download&confirm=yes&id=1DQL9ybca4USImUDaxxHmkIZNmClKBtKG'"
      ],
      "metadata": {
        "id": "TiDX4-m4OMDM",
        "colab": {
          "base_uri": "https://localhost:8080/"
        },
        "outputId": "2dca9581-7a60-4ae3-ae9a-862b912c5f53"
      },
      "execution_count": null,
      "outputs": [
        {
          "output_type": "stream",
          "name": "stdout",
          "text": [
            "--2024-01-10 07:25:18--  https://drive.google.com/uc?export=download&confirm=yes&id=1DQL9ybca4USImUDaxxHmkIZNmClKBtKG\n",
            "Resolving drive.google.com (drive.google.com)... 74.125.195.101, 74.125.195.113, 74.125.195.100, ...\n",
            "Connecting to drive.google.com (drive.google.com)|74.125.195.101|:443... connected.\n",
            "HTTP request sent, awaiting response... 303 See Other\n",
            "Location: https://doc-0k-4o-docs.googleusercontent.com/docs/securesc/ha0ro937gcuc7l7deffksulhg5h7mbp1/qd9lp24r0sq6g02r81mjgfc4oroumesb/1704871500000/08017369226157329473/*/1DQL9ybca4USImUDaxxHmkIZNmClKBtKG?e=download&uuid=74d13225-cafd-410e-b57b-dc6226352d7c [following]\n",
            "Warning: wildcards not supported in HTTP.\n",
            "--2024-01-10 07:25:18--  https://doc-0k-4o-docs.googleusercontent.com/docs/securesc/ha0ro937gcuc7l7deffksulhg5h7mbp1/qd9lp24r0sq6g02r81mjgfc4oroumesb/1704871500000/08017369226157329473/*/1DQL9ybca4USImUDaxxHmkIZNmClKBtKG?e=download&uuid=74d13225-cafd-410e-b57b-dc6226352d7c\n",
            "Resolving doc-0k-4o-docs.googleusercontent.com (doc-0k-4o-docs.googleusercontent.com)... 142.250.99.132, 2607:f8b0:400e:c0c::84\n",
            "Connecting to doc-0k-4o-docs.googleusercontent.com (doc-0k-4o-docs.googleusercontent.com)|142.250.99.132|:443... connected.\n",
            "HTTP request sent, awaiting response... 200 OK\n",
            "Length: 1847850502 (1.7G) [text/plain]\n",
            "Saving to: ‘Otvety.txt’\n",
            "\n",
            "Otvety.txt          100%[===================>]   1.72G   120MB/s    in 20s     \n",
            "\n",
            "2024-01-10 07:25:39 (86.0 MB/s) - ‘Otvety.txt’ saved [1847850502/1847850502]\n",
            "\n"
          ]
        }
      ]
    },
    {
      "cell_type": "code",
      "source": [
        "end = ['?', '.', '!', ]\n",
        "def check_sign(obj:str):\n",
        "    obj = ' '.join(obj.strip().split())\n",
        "    for n, el in enumerate(obj[::-1]):\n",
        "        if el in end:\n",
        "            finish = n\n",
        "        elif el == ' ':\n",
        "            continue\n",
        "        else:\n",
        "            break\n",
        "    return obj[:-finish] if finish > 0 else obj[:]\n",
        "\n",
        "'''\n",
        "Функция для предобработки файла с вопросами и ответами. На вход подается текстовый файл содержащий строки:\n",
        "с вопросами которые начинается со строки \"---\", далее следует срока с вопросом, и строки с ответами.\n",
        "Ответов может быть несколько.\n",
        "'''\n",
        "# Определяем флаг\n",
        "written = False\n",
        "# Задаем переменную, где будет храниться текст вопроса.\n",
        "question = None\n",
        "\n",
        "# Открываем итоговый файл для записи\n",
        "with open(\"prepared_answers.txt\", \"w\") as res:\n",
        "  # Открываем исходный файл на чтение\n",
        "  with open('Otvety.txt', 'r')as source:\n",
        "    for line in notebook.tqdm(source):\n",
        "      # Если новый или первый вопрос\n",
        "      if line.startswith(\"---\"):\n",
        "          # Меняем флаг\n",
        "          written = True\n",
        "          # Если это новый вопрос записываем предыдущий вопрос и ответ на него как последний элемент списка ответов.\n",
        "          if question and answer:\n",
        "              # Берем последний элемент из списка вопросов\n",
        "              spam = answer[-1].replace('\\t', ' ')\n",
        "              # Убираем HTML тэги\n",
        "              spam = re.sub(r'(<.{,4}>)', '', spam)\n",
        "              # Проверяем что ответ заканчивается только одним знаком препинания ['?', '.', '!', ]\n",
        "              spam = check_sign(spam)\n",
        "              # Записываем строку\n",
        "              res.write(question + '\\t' + spam + '\\n')\n",
        "              # И задаем что переменная вопрос пустая\n",
        "              question = None\n",
        "          # Переходим к следующей строке\n",
        "          continue\n",
        "      # Если флаг True (была срока задающая начало вопроса)\n",
        "      if written:\n",
        "          # Вопрос равен этой строке\n",
        "          question = line.strip().replace('\\t', ' ')\n",
        "          # Создаём список для ответов\n",
        "          answer = []\n",
        "          # Меняем флаг, текст вопроса уже есть.\n",
        "          written = False\n",
        "          continue\n",
        "      # Если нет флага и есть вопрос, заполняем список ответов\n",
        "      if not written and question:\n",
        "          answer.append(line)\n",
        "          continue"
      ],
      "metadata": {
        "colab": {
          "base_uri": "https://localhost:8080/",
          "height": 49,
          "referenced_widgets": [
            "9363cb53d73447b3b80c6f8d5a693fcf",
            "d387be2755724e99b4c3459e7c27a499",
            "4f34ad3bc8d3433faf421e0c394d39ae",
            "c4cfd77526634f54a312550adee53d3a",
            "6a0f3b9658e74617a7542a83d747c969",
            "e5e88934489e4a348e09ab5cc9adee95",
            "5a77cbf8987449818deb7f6a3881b79d",
            "4f46c9e0d5ef488b939f1a322034057f",
            "e6032b50840643a0bc81bbbaf29e2452",
            "6e3eafcee3e74bbcab59938f0ebd36a5",
            "1bd0936af3df4c18b59c32c94d281a3b"
          ]
        },
        "id": "v-x0hrP-bGkT",
        "outputId": "1e79afd7-41c7-47fe-b72e-178fc8daf9a6"
      },
      "execution_count": null,
      "outputs": [
        {
          "output_type": "display_data",
          "data": {
            "text/plain": [
              "0it [00:00, ?it/s]"
            ],
            "application/vnd.jupyter.widget-view+json": {
              "version_major": 2,
              "version_minor": 0,
              "model_id": "9363cb53d73447b3b80c6f8d5a693fcf"
            }
          },
          "metadata": {}
        }
      ]
    },
    {
      "cell_type": "code",
      "source": [
        "morpher = MorphAnalyzer()\n",
        "sw = set(get_stop_words(\"ru\")).difference(['не', 'нет'])\n",
        "exclude = set(string.punctuation).union(['—'])"
      ],
      "metadata": {
        "id": "HfD4-9Z4c5t8"
      },
      "execution_count": null,
      "outputs": []
    },
    {
      "cell_type": "code",
      "source": [
        "def preprocess_txt(line):\n",
        "    # Убираем HTML тэги\n",
        "    spls = re.sub(r'(<.{,4}>)', '', line)\n",
        "    # Ищем цифры, разделяем их пробелами\n",
        "    spls = [i + ' ' if i.isdigit() else i for i in spls.strip()]\n",
        "    # Убираем знаки препинания\n",
        "    spls = ''.join(i for i in spls if i not in exclude).split()\n",
        "    # spls = [i.lower() for i in spls]\n",
        "    # Приводим к нормальной форме\n",
        "    spls = [morpher.parse(i.lower())[0].normal_form for i in spls]\n",
        "    # Убираем стоп-слова\n",
        "    spls = [i for i in spls if i not in sw]\n",
        "    return spls"
      ],
      "metadata": {
        "id": "KOjx40TtfU0o"
      },
      "execution_count": null,
      "outputs": []
    },
    {
      "cell_type": "code",
      "source": [
        "sentences, c = [], 0\n",
        "with open(\"Otvety.txt\", \"r\") as fin:\n",
        "    for line in notebook.tqdm(fin):\n",
        "        if len(line) > 4:\n",
        "            spam = preprocess_txt(line)\n",
        "            sentences.append(spam)\n",
        "            c += 1\n",
        "            if c > 300000:\n",
        "                break"
      ],
      "metadata": {
        "colab": {
          "base_uri": "https://localhost:8080/",
          "height": 49,
          "referenced_widgets": [
            "0b2207b74bee4d47b90b94ac7d100e4f",
            "cfeb70f1ed294d38924d9e2131c4997e",
            "d0d3f653f59344e3821946835776bbb3",
            "3f0d9dedde7f4f9ca35d52f1b3009684",
            "d6d8b253629d42d5813640a2d50fa318",
            "deb281b03ebe4394945249bb6b46b4fd",
            "0d0bf5c147db4505bf24e32f23bacbb0",
            "6a5175cebbf347ec8fbe4361612376c0",
            "a3c248b1f8f149b1b97c3f95e45ba389",
            "60ddf6b5629d4b1ca581189175a501b4",
            "2f5807a4bc364b2b9b4377e51e9a5ed4"
          ]
        },
        "id": "PXzYwEaadspn",
        "outputId": "30359457-c850-45fc-9868-b3f197e69c3b"
      },
      "execution_count": null,
      "outputs": [
        {
          "output_type": "display_data",
          "data": {
            "text/plain": [
              "<IPython.core.display.HTML object>"
            ],
            "text/html": [
              "\n",
              "  <style>\n",
              "    pre {\n",
              "        white-space: pre-wrap;\n",
              "    }\n",
              "  </style>\n",
              "  "
            ]
          },
          "metadata": {}
        },
        {
          "output_type": "display_data",
          "data": {
            "text/plain": [
              "0it [00:00, ?it/s]"
            ],
            "application/vnd.jupyter.widget-view+json": {
              "version_major": 2,
              "version_minor": 0,
              "model_id": "0b2207b74bee4d47b90b94ac7d100e4f"
            }
          },
          "metadata": {}
        }
      ]
    },
    {
      "cell_type": "code",
      "source": [
        "modelFT = FastText(sentences=sentences, vector_size=450, min_count=1, window=5, workers=2)"
      ],
      "metadata": {
        "colab": {
          "base_uri": "https://localhost:8080/",
          "height": 17
        },
        "id": "NEIGin_QzU1I",
        "outputId": "c52a15cd-0eb6-4381-c60b-dd63a5e5fbe7"
      },
      "execution_count": null,
      "outputs": [
        {
          "output_type": "display_data",
          "data": {
            "text/plain": [
              "<IPython.core.display.HTML object>"
            ],
            "text/html": [
              "\n",
              "  <style>\n",
              "    pre {\n",
              "        white-space: pre-wrap;\n",
              "    }\n",
              "  </style>\n",
              "  "
            ]
          },
          "metadata": {}
        }
      ]
    },
    {
      "cell_type": "code",
      "source": [
        "ft_index = annoy.AnnoyIndex(450 ,'angular')\n",
        "\n",
        "index_map = {}\n",
        "counter = 0\n",
        "\n",
        "with open(\"prepared_answers.txt\", \"r\") as f:\n",
        "    for line in notebook.tqdm(f):\n",
        "        n_ft = 0\n",
        "        spls = line.split(\"\\t\")\n",
        "        index_map[counter] = spls[1]\n",
        "        question = preprocess_txt(spls[0])\n",
        "\n",
        "        vector_ft = np.zeros(450)\n",
        "        for word in question:\n",
        "            if word in modelFT.wv:\n",
        "                vector_ft += modelFT.wv[word]\n",
        "                n_ft += 1\n",
        "        if n_ft > 0:\n",
        "            vector_ft = vector_ft / n_ft\n",
        "        ft_index.add_item(counter, vector_ft)\n",
        "\n",
        "        counter += 1\n",
        "\n",
        "        if counter > 300000:\n",
        "            break\n",
        "\n",
        "ft_index.build(15)"
      ],
      "metadata": {
        "colab": {
          "base_uri": "https://localhost:8080/",
          "height": 67,
          "referenced_widgets": [
            "f057aa2ca3b74dc4beebdea5d91e3dac",
            "a04141409fa34e16a0ff8e7fc92a76fc",
            "dac2df75912149b3bb388578c1fd753b",
            "816d2dc177604470b2cd6ad7ded43666",
            "040070c4fd4e4ed686f0193d7e4c7046",
            "56666077ad414fa9a3ac43aad2e63d2b",
            "9cb5f2eb3f584dd5b7658647b22855d3",
            "365ee954c30b49b194eb5bf61f08aa35",
            "beda8c30acec43a684e14977f790f0d5",
            "ec0e8e3624054725ba32e64c791ec744",
            "0a400a9dc0c74640a070adc67970b88f"
          ]
        },
        "id": "YXAwvGbmzn8A",
        "outputId": "bb636764-5a47-4558-c1d4-ed49de830ae1"
      },
      "execution_count": null,
      "outputs": [
        {
          "output_type": "display_data",
          "data": {
            "text/plain": [
              "<IPython.core.display.HTML object>"
            ],
            "text/html": [
              "\n",
              "  <style>\n",
              "    pre {\n",
              "        white-space: pre-wrap;\n",
              "    }\n",
              "  </style>\n",
              "  "
            ]
          },
          "metadata": {}
        },
        {
          "output_type": "display_data",
          "data": {
            "text/plain": [
              "0it [00:00, ?it/s]"
            ],
            "application/vnd.jupyter.widget-view+json": {
              "version_major": 2,
              "version_minor": 0,
              "model_id": "f057aa2ca3b74dc4beebdea5d91e3dac"
            }
          },
          "metadata": {}
        },
        {
          "output_type": "execute_result",
          "data": {
            "text/plain": [
              "True"
            ]
          },
          "metadata": {},
          "execution_count": 10
        }
      ]
    },
    {
      "cell_type": "code",
      "source": [
        "from google.colab import drive\n",
        "drive.mount('/content/drive/')\n"
      ],
      "metadata": {
        "colab": {
          "base_uri": "https://localhost:8080/",
          "height": 35
        },
        "id": "yGmWhdhKhD9q",
        "outputId": "f6de72f5-7a88-4762-c6c1-2c7c6a9a6f8b"
      },
      "execution_count": null,
      "outputs": [
        {
          "output_type": "display_data",
          "data": {
            "text/plain": [
              "<IPython.core.display.HTML object>"
            ],
            "text/html": [
              "\n",
              "  <style>\n",
              "    pre {\n",
              "        white-space: pre-wrap;\n",
              "    }\n",
              "  </style>\n",
              "  "
            ]
          },
          "metadata": {}
        },
        {
          "output_type": "stream",
          "name": "stdout",
          "text": [
            "Mounted at /content/drive/\n"
          ]
        }
      ]
    },
    {
      "cell_type": "code",
      "source": [
        "# сохранение модели, дерева индексов, словаря индексов\n",
        "path = '/content/drive/MyDrive/bot/'\n",
        "shutil.copy('prepared_answers.txt', path + 'prepared_answers.txt')\n",
        "modelFT.save(path + 'ft_model')\n",
        "ft_index.save(path + 'speaker.ann')\n",
        "with open(path + \"index_speaker.pkl\", \"wb\") as f:\n",
        "    pickle.dump(index_map, f)"
      ],
      "metadata": {
        "colab": {
          "base_uri": "https://localhost:8080/",
          "height": 35
        },
        "id": "pu04WnuCc-AY",
        "outputId": "d0f37115-02d4-46ce-def4-7be323b97ae0"
      },
      "execution_count": null,
      "outputs": [
        {
          "output_type": "execute_result",
          "data": {
            "text/plain": [
              "'/content/drive/MyDrive/bot/prepared_answers.txt'"
            ],
            "application/vnd.google.colaboratory.intrinsic+json": {
              "type": "string"
            }
          },
          "metadata": {},
          "execution_count": 18
        }
      ]
    },
    {
      "cell_type": "markdown",
      "source": [
        "# Генерация текста\n"
      ],
      "metadata": {
        "id": "KPlSZUJs2CU7"
      }
    },
    {
      "cell_type": "code",
      "source": [
        "!pip install accelerate -U"
      ],
      "metadata": {
        "id": "ZC3q6s8a6Ugt"
      },
      "execution_count": null,
      "outputs": []
    },
    {
      "cell_type": "code",
      "source": [
        "# Загружаем текст\n",
        "from google.colab import files\n",
        "files.upload()"
      ],
      "metadata": {
        "id": "4V_nKSAJiqLF"
      },
      "execution_count": null,
      "outputs": []
    },
    {
      "cell_type": "code",
      "source": [
        "# Считываем файл создаем список строк; разделить - пустая строка\n",
        "def make_corpus(path:str):\n",
        "    with open(path, 'r', encoding='utf-8')as f:\n",
        "        data =f.read()\n",
        "    data = data.replace('\\ufeff', '')\n",
        "    return data.split(sep='\\n\\n')"
      ],
      "metadata": {
        "colab": {
          "base_uri": "https://localhost:8080/",
          "height": 17
        },
        "id": "5-dW39zLqs18",
        "outputId": "6b1e6bdf-c6d4-49b5-9757-c3090740b6d4"
      },
      "execution_count": null,
      "outputs": [
        {
          "output_type": "display_data",
          "data": {
            "text/plain": [
              "<IPython.core.display.HTML object>"
            ],
            "text/html": [
              "\n",
              "  <style>\n",
              "    pre {\n",
              "        white-space: pre-wrap;\n",
              "    }\n",
              "  </style>\n",
              "  "
            ]
          },
          "metadata": {}
        }
      ]
    },
    {
      "cell_type": "code",
      "source": [
        "# Создаем корпусы текстов\n",
        "corpus_1 = make_corpus('wealth_1.txt')\n",
        "corpus_2 = make_corpus('wealth_2.txt')"
      ],
      "metadata": {
        "colab": {
          "base_uri": "https://localhost:8080/",
          "height": 17
        },
        "id": "XrJaXb4vrHph",
        "outputId": "17cda4e6-bfee-4000-bc84-b572f604003b"
      },
      "execution_count": null,
      "outputs": [
        {
          "output_type": "display_data",
          "data": {
            "text/plain": [
              "<IPython.core.display.HTML object>"
            ],
            "text/html": [
              "\n",
              "  <style>\n",
              "    pre {\n",
              "        white-space: pre-wrap;\n",
              "    }\n",
              "  </style>\n",
              "  "
            ]
          },
          "metadata": {}
        }
      ]
    },
    {
      "cell_type": "code",
      "source": [
        "# Запишем измененный текст разделяя части \\n\n",
        "with open('prepare_wealth.txt', 'w', encoding='utf-8')as f:\n",
        "  for corpus in [corpus_1, corpus_2]:\n",
        "      for el in corpus:\n",
        "          spam = el.replace('\\n', ' ')\n",
        "          # f.writelines(spam + '\\n')\n",
        "          f.writelines('<s> ' + spam + ' </s>')\n",
        "# corpus[:50]\n",
        "# len(corpus)"
      ],
      "metadata": {
        "id": "mH_BhAH_oi_g",
        "colab": {
          "base_uri": "https://localhost:8080/",
          "height": 17
        },
        "outputId": "c937f3dc-7d73-44af-c6ec-4961dc3c13bd"
      },
      "execution_count": null,
      "outputs": [
        {
          "output_type": "display_data",
          "data": {
            "text/plain": [
              "<IPython.core.display.HTML object>"
            ],
            "text/html": [
              "\n",
              "  <style>\n",
              "    pre {\n",
              "        white-space: pre-wrap;\n",
              "    }\n",
              "  </style>\n",
              "  "
            ]
          },
          "metadata": {}
        }
      ]
    },
    {
      "cell_type": "code",
      "source": [
        "with open('prepare_wealth.txt', 'r')as f:\n",
        "  for line in f:\n",
        "    print(line)\n",
        "    input()"
      ],
      "metadata": {
        "id": "8lO-TEQskQWN"
      },
      "execution_count": null,
      "outputs": []
    },
    {
      "cell_type": "code",
      "source": [
        "from transformers import AutoTokenizer\n",
        "from transformers import TextDataset, DataCollatorForLanguageModeling\n",
        "from transformers import Trainer, TrainingArguments, AutoModelForCausalLM"
      ],
      "metadata": {
        "id": "G5s4s2LhiqOL",
        "colab": {
          "base_uri": "https://localhost:8080/",
          "height": 17
        },
        "outputId": "e614d96f-578c-40bf-d6b9-c1d11b424e23"
      },
      "execution_count": null,
      "outputs": [
        {
          "output_type": "display_data",
          "data": {
            "text/plain": [
              "<IPython.core.display.HTML object>"
            ],
            "text/html": [
              "\n",
              "  <style>\n",
              "    pre {\n",
              "        white-space: pre-wrap;\n",
              "    }\n",
              "  </style>\n",
              "  "
            ]
          },
          "metadata": {}
        }
      ]
    },
    {
      "cell_type": "code",
      "source": [
        "tokenizer = AutoTokenizer.from_pretrained(\"sberbank-ai/rugpt3small_based_on_gpt2\")\n",
        "# Создаем датасет\n",
        "train_dataset = TextDataset(tokenizer=tokenizer, file_path='prepare_wealth.txt', block_size=256)"
      ],
      "metadata": {
        "colab": {
          "base_uri": "https://localhost:8080/",
          "height": 214
        },
        "id": "lIn7DBq1KKfd",
        "outputId": "42394f95-cf07-47c3-aa8d-ab45cb82c963"
      },
      "execution_count": null,
      "outputs": [
        {
          "output_type": "display_data",
          "data": {
            "text/plain": [
              "<IPython.core.display.HTML object>"
            ],
            "text/html": [
              "\n",
              "  <style>\n",
              "    pre {\n",
              "        white-space: pre-wrap;\n",
              "    }\n",
              "  </style>\n",
              "  "
            ]
          },
          "metadata": {}
        },
        {
          "output_type": "stream",
          "name": "stderr",
          "text": [
            "/usr/local/lib/python3.10/dist-packages/huggingface_hub/utils/_token.py:88: UserWarning: \n",
            "The secret `HF_TOKEN` does not exist in your Colab secrets.\n",
            "To authenticate with the Hugging Face Hub, create a token in your settings tab (https://huggingface.co/settings/tokens), set it as secret in your Google Colab and restart your session.\n",
            "You will be able to reuse this secret in all of your notebooks.\n",
            "Please note that authentication is recommended but still optional to access public models or datasets.\n",
            "  warnings.warn(\n",
            "/usr/local/lib/python3.10/dist-packages/transformers/data/datasets/language_modeling.py:53: FutureWarning: This dataset will be removed from the library soon, preprocessing should be handled with the 🤗 Datasets library. You can have a look at this example script for pointers: https://github.com/huggingface/transformers/blob/main/examples/pytorch/language-modeling/run_mlm.py\n",
            "  warnings.warn(\n"
          ]
        }
      ]
    },
    {
      "cell_type": "code",
      "source": [
        "data_collator = DataCollatorForLanguageModeling(tokenizer=tokenizer, mlm=True,)\n",
        "# Определяем модель\n",
        "model = AutoModelForCausalLM.from_pretrained(\"sberbank-ai/rugpt3small_based_on_gpt2\")"
      ],
      "metadata": {
        "colab": {
          "base_uri": "https://localhost:8080/",
          "height": 17
        },
        "id": "N_NN2Y82PQKO",
        "outputId": "5cf1d834-0b0d-4a88-f31d-540de1765a04"
      },
      "execution_count": null,
      "outputs": [
        {
          "output_type": "display_data",
          "data": {
            "text/plain": [
              "<IPython.core.display.HTML object>"
            ],
            "text/html": [
              "\n",
              "  <style>\n",
              "    pre {\n",
              "        white-space: pre-wrap;\n",
              "    }\n",
              "  </style>\n",
              "  "
            ]
          },
          "metadata": {}
        }
      ]
    },
    {
      "cell_type": "code",
      "source": [
        "# Для тренировки воспользуемся встроенными модулями из библиотеки transformers\n",
        "training_args = TrainingArguments(\n",
        "    output_dir=\"./gpt2-wealth\", #Директория для сохранения\n",
        "    overwrite_output_dir=True, #Перезаписываем данные\n",
        "    num_train_epochs=25, # Число эпох для тренировки\n",
        "    per_device_train_batch_size=4, # Размер батча для тренировки\n",
        "    per_device_eval_batch_size=4,  # Размер батча для теста\n",
        "    # per_gpu_train_batch_size=4,\n",
        "    # per_gpu_eval_batch_size=4,\n",
        "    eval_steps = 400, # Число шагов до оцеки\n",
        "    save_steps=400, # Число шагов до сохранения модели\n",
        "    warmup_steps=500,# number of warmup steps for learning rate scheduler\n",
        "    )\n",
        "\n",
        "trainer = Trainer(\n",
        "    model=model,\n",
        "    args=training_args,\n",
        "    data_collator=data_collator,\n",
        "    train_dataset=train_dataset,\n",
        "    eval_dataset=train_dataset)"
      ],
      "metadata": {
        "id": "GnU4yiUpoZQa",
        "colab": {
          "base_uri": "https://localhost:8080/",
          "height": 17
        },
        "outputId": "13869093-1b70-4c0b-c033-9a32fabfce79"
      },
      "execution_count": null,
      "outputs": [
        {
          "output_type": "display_data",
          "data": {
            "text/plain": [
              "<IPython.core.display.HTML object>"
            ],
            "text/html": [
              "\n",
              "  <style>\n",
              "    pre {\n",
              "        white-space: pre-wrap;\n",
              "    }\n",
              "  </style>\n",
              "  "
            ]
          },
          "metadata": {}
        }
      ]
    },
    {
      "cell_type": "code",
      "source": [
        "# Запускаем обучение\n",
        "trainer.train()"
      ],
      "metadata": {
        "id": "wlKKMC78_Uu3"
      },
      "execution_count": null,
      "outputs": []
    },
    {
      "cell_type": "code",
      "source": [
        "# Сохраняем результаты\n",
        "trainer.save_model()"
      ],
      "metadata": {
        "id": "9-KJM4yG_o9U"
      },
      "execution_count": null,
      "outputs": []
    },
    {
      "cell_type": "code",
      "source": [
        "tokenizer.save_pretrained('gpt_wealth')\n",
        "model.save_pretrained('model_gpt_wealth')"
      ],
      "metadata": {
        "id": "hWvhVXHJ_qH-"
      },
      "execution_count": null,
      "outputs": []
    },
    {
      "cell_type": "code",
      "source": [
        "# Используем обученную модель и токенайзер\n",
        "tokenizer = AutoTokenizer.from_pretrained(\"gpt_wealth\")\n",
        "model1 = AutoModelForCausalLM.from_pretrained(\"model_gpt_wealth\")"
      ],
      "metadata": {
        "id": "cZnJ4dTnBASF"
      },
      "execution_count": null,
      "outputs": []
    },
    {
      "cell_type": "code",
      "source": [
        "from google.colab import drive\n",
        "drive.mount('/content/drive/')\n",
        "path = '/content/drive/MyDrive/'"
      ],
      "metadata": {
        "colab": {
          "base_uri": "https://localhost:8080/"
        },
        "id": "7tvOQeoWRYhs",
        "outputId": "be4b6dca-dab5-4925-8993-c46dcde1603d"
      },
      "execution_count": null,
      "outputs": [
        {
          "output_type": "stream",
          "name": "stdout",
          "text": [
            "Mounted at /content/drive/\n"
          ]
        }
      ]
    },
    {
      "cell_type": "code",
      "source": [
        "import shutil"
      ],
      "metadata": {
        "id": "huc1k285RsTA"
      },
      "execution_count": null,
      "outputs": []
    },
    {
      "cell_type": "code",
      "source": [
        "shutil.copytree('model_gpt_wealth', path + 'model_gpt_wealth')"
      ],
      "metadata": {
        "colab": {
          "base_uri": "https://localhost:8080/",
          "height": 35
        },
        "id": "TSXQ9YBkRqVU",
        "outputId": "78e1b5bf-1fbb-4aef-97ad-66569e73ce52"
      },
      "execution_count": null,
      "outputs": [
        {
          "output_type": "execute_result",
          "data": {
            "text/plain": [
              "'/content/drive/MyDrive/model_gpt_wealth'"
            ],
            "application/vnd.google.colaboratory.intrinsic+json": {
              "type": "string"
            }
          },
          "metadata": {},
          "execution_count": 41
        }
      ]
    },
    {
      "cell_type": "markdown",
      "source": [
        "Тестируем"
      ],
      "metadata": {
        "id": "6-MYPyJ5VSNM"
      }
    },
    {
      "cell_type": "code",
      "source": [
        "prefix = \"Что мне мешает стать богатым?\""
      ],
      "metadata": {
        "id": "JHRYZPWlBUoY"
      },
      "execution_count": null,
      "outputs": []
    },
    {
      "cell_type": "code",
      "source": [
        "tokens = tokenizer(prefix, return_tensors='pt')"
      ],
      "metadata": {
        "id": "YMYLTEGYBVsT"
      },
      "execution_count": null,
      "outputs": []
    },
    {
      "cell_type": "code",
      "source": [
        "size = tokens['input_ids'].shape[1]\n",
        "output = model1.generate(\n",
        "    **tokens,\n",
        "    #end_token=end_token_id,\n",
        "    do_sample=True,\n",
        "    max_length=size+150,\n",
        "    repetition_penalty=6.,\n",
        "    temperature=1.5,\n",
        "    num_beams=10,)\n",
        "\n",
        "decoded = tokenizer.decode(output[0])\n",
        "result = decoded[len(prefix):]\n",
        "print(prefix + result)"
      ],
      "metadata": {
        "colab": {
          "base_uri": "https://localhost:8080/"
        },
        "id": "nrElG5DwBacq",
        "outputId": "6efdf3d5-9c55-434b-d8ff-e7cd7bfdbe79"
      },
      "execution_count": null,
      "outputs": [
        {
          "output_type": "stream",
          "name": "stdout",
          "text": [
            "Что мне мешает стать богатым? - Я боюсь, что это не получится у меня... навсегда.\n",
            "КАК МЫ ЗАРАБАТЫВАЕМ ДЕНЬГИ?\n",
            "Деньги - изобретение чисто человеческое. Их можно получить только от других людей. А значит - с помощью них мы добываем деньги. Но для этого нужно убедить их отдать нам свои деньги в обмен на что-то, что мы можем им дать. Согласитесь, кто захочет покупать кота в мешке? Да и зачем ему это надо? Он же не виноват, что у него мало денег. Продавец сам все расстраивает, потому что он не знает, как сделать так, чтобы люди тебе отдали свои деньги в обмен на что-то, что они имеют. Как говорил один миллионер: \"\n"
          ]
        }
      ]
    },
    {
      "cell_type": "markdown",
      "source": [
        "# Разделение вопросов"
      ],
      "metadata": {
        "id": "gQBBAAc9N9oT"
      }
    },
    {
      "cell_type": "markdown",
      "source": [
        "Идея разделения вопросов по темам следующая:\n",
        "1. Составляем словарь из слов вопросов на общие темы;\n",
        "2. Составляем словарь из текста книг (на которых обучалась модель генерации текста)\n",
        "3. Из множества слов второго словаря убираем слова которые встречаются в первом словаре.\n",
        "4. Используем получившийся список как набор для определения принадлежности вопроса к модели генерации текста."
      ],
      "metadata": {
        "id": "OL0HUzv93Bln"
      }
    },
    {
      "cell_type": "code",
      "source": [
        "!pip install pymorphy2 stop_words annoy"
      ],
      "metadata": {
        "id": "hOsVC6GwO1N8"
      },
      "execution_count": null,
      "outputs": []
    },
    {
      "cell_type": "code",
      "source": [
        "from tqdm import tqdm_notebook, tqdm, notebook\n",
        "import string\n",
        "from pymorphy2 import MorphAnalyzer\n",
        "from stop_words import get_stop_words\n",
        "import pickle\n",
        "from collections import Counter"
      ],
      "metadata": {
        "id": "uLGzA-8iOfdo"
      },
      "execution_count": null,
      "outputs": []
    },
    {
      "cell_type": "code",
      "source": [
        "# Составляем список текстов общих вопросов\n",
        "questions, counter = [], 0\n",
        "with open(path + \"prepared_answers.txt\", \"r\") as f:\n",
        "    for line in notebook.tqdm(f):\n",
        "        spls = line.split(\"\\t\")\n",
        "        questions.append(preprocess_txt(spls[0]))\n",
        "        counter += 1\n",
        "        if counter > 300_000:\n",
        "          break"
      ],
      "metadata": {
        "colab": {
          "base_uri": "https://localhost:8080/",
          "height": 49,
          "referenced_widgets": [
            "5d6a3d487d6e4a0d943c5f7d7192ed5b",
            "12a9c14d4ed2445ca729110b035b4a24",
            "7fe11952dc284c24b228ae773c16b500",
            "5c87c84bed994c5eacfb8e03445e6e46",
            "52823e5693484e34b00e63f854cf9f5c",
            "f5d2780067944bf6a1d7e857286e7ba0",
            "163943dd580545968f68f2a1875ecd3a",
            "1df759c30d454ec0881b9e72a43e3780",
            "3d20c2d3d48a41d5b96d5bde9da3820d",
            "0f3da26aa41d4ac0ae99e5b5510af466",
            "e30698812fd441f09c2f4ac8a1284cc7"
          ]
        },
        "id": "C5S2dufSSwUA",
        "outputId": "d7404305-cba0-492f-a6d1-ead4099ffc52"
      },
      "execution_count": null,
      "outputs": [
        {
          "data": {
            "application/vnd.jupyter.widget-view+json": {
              "model_id": "5d6a3d487d6e4a0d943c5f7d7192ed5b",
              "version_major": 2,
              "version_minor": 0
            },
            "text/plain": [
              "0it [00:00, ?it/s]"
            ]
          },
          "metadata": {},
          "output_type": "display_data"
        }
      ]
    },
    {
      "cell_type": "code",
      "source": [
        "# Загружаем тексты книг\n",
        "from google.colab import files\n",
        "files.upload()"
      ],
      "metadata": {
        "id": "aQbrOkY6UJqy"
      },
      "execution_count": null,
      "outputs": []
    },
    {
      "cell_type": "code",
      "source": [
        "# Считываем файл создаем список строк; разделить - пустая строка\n",
        "def make_corpus(path:str):\n",
        "    with open(path, 'r', encoding='utf-8')as f:\n",
        "        data =f.read()\n",
        "    data = data.replace('\\ufeff', '')\n",
        "    return data.split(sep='\\n\\n')"
      ],
      "metadata": {
        "id": "BOfQ7MGbUT03"
      },
      "execution_count": null,
      "outputs": []
    },
    {
      "cell_type": "code",
      "source": [
        "# Создаем корпусы текстов\n",
        "corpus_1 = make_corpus('wealth_1.txt')\n",
        "corpus_2 = make_corpus('wealth_2.txt')\n",
        "corpus_1.extend(corpus_2)"
      ],
      "metadata": {
        "id": "AffQON7rUXZH"
      },
      "execution_count": null,
      "outputs": []
    },
    {
      "cell_type": "code",
      "source": [
        "# Создаем словари получаем список специфических слов\n",
        "%%time\n",
        "vocab_general = Counter([i for el in questions for i in el])\n",
        "vocab_wealth = Counter([i for el in corpus_1 for i in preprocess_txt(el)])\n",
        "kw1 = [el[0] for el in sorted(vocab_general.items(), key=lambda x: -x[1])[:1000]]\n",
        "kw2 = set([el[0] for el in sorted(vocab_wealth.items(), key=lambda x: -x[1])[:500]])\n",
        "key_words = kw2.difference(kw1)\n",
        "key_words.add('деньга')"
      ],
      "metadata": {
        "colab": {
          "base_uri": "https://localhost:8080/"
        },
        "id": "AQn3XxLxyM7X",
        "outputId": "ceca46a8-3574-469a-ad9c-80f5cde0aeb4"
      },
      "execution_count": null,
      "outputs": [
        {
          "output_type": "stream",
          "name": "stdout",
          "text": [
            "CPU times: user 1.67 s, sys: 8.35 ms, total: 1.68 s\n",
            "Wall time: 1.68 s\n"
          ]
        }
      ]
    },
    {
      "cell_type": "code",
      "source": [
        "# Сохраняем список специфических слов\n",
        "with open(path + \"key_words.pkl\", \"wb\") as f:\n",
        "    pickle.dump(key_words, f)"
      ],
      "metadata": {
        "id": "g-46cqIEzS6j"
      },
      "execution_count": null,
      "outputs": []
    },
    {
      "cell_type": "code",
      "source": [
        "# Функция для проверки списка токенов на принадлежность\n",
        "def check_question(obj:list):\n",
        "      amount = len(obj) if len(obj) > 0 else 1\n",
        "      check = sum([1 for el in obj if el in key_words]) / amount\n",
        "\n",
        "      if check > 0.29:\n",
        "          return 1\n",
        "      else:\n",
        "          return 0"
      ],
      "metadata": {
        "id": "CnCXq3IpssG3"
      },
      "execution_count": null,
      "outputs": []
    },
    {
      "cell_type": "code",
      "source": [
        "# Проверяем работу\n",
        "control = ['Мне надоело зависеть от работы!', 'Какую книгу почитать?', \"Какой фильм посмотреть?\", 'Главные правила богатых людей', \"Что нужно знать чтобы стать богатым?\", 'Кому должен подражать успешный бизнесмен?', 'Успешный бизнес - это риск.', 'Какими качествами должен обладать успешный бизнесмен?', 'Какие качества нужно развивать чтобы стать богатым?', 'Что такое деньги?', 'Можно ли быстро разбогатеть?']\n",
        "result, count = [], 0\n",
        "for item in control:\n",
        "# for item in questions[:10000]:\n",
        "  spam = preprocess_txt(item)\n",
        "  result.append(check_question(spam))\n",
        "\n",
        "for n, el in enumerate(result):\n",
        "  if el == 1:\n",
        "    count += 1\n",
        "    print(control[n])\n",
        "print(count)"
      ],
      "metadata": {
        "colab": {
          "base_uri": "https://localhost:8080/"
        },
        "id": "z9rtq29opOK5",
        "outputId": "5bac718c-0f60-40ae-9bf8-dce5a53c395d"
      },
      "execution_count": null,
      "outputs": [
        {
          "output_type": "stream",
          "name": "stdout",
          "text": [
            "Мне надоело зависеть от работы!\n",
            "Главные правила богатых людей\n",
            "Что нужно знать чтобы стать богатым?\n",
            "Кому должен подражать успешный бизнесмен?\n",
            "Успешный бизнес - это риск.\n",
            "Какими качествами должен обладать успешный бизнесмен?\n",
            "Что такое деньги?\n",
            "Можно ли быстро разбогатеть?\n",
            "8\n"
          ]
        }
      ]
    },
    {
      "cell_type": "markdown",
      "source": [
        "# Сборка"
      ],
      "metadata": {
        "id": "9EBcQsaC5QnE"
      }
    },
    {
      "cell_type": "code",
      "source": [
        "!pip install annoy stop_words pymorphy2 python-telegram-bot==13.3"
      ],
      "metadata": {
        "id": "PR0tRWrm6GF9"
      },
      "execution_count": null,
      "outputs": []
    },
    {
      "cell_type": "code",
      "source": [
        "# from tqdm import tqdm_notebook, tqdm, notebook\n",
        "import string\n",
        "# import shutil\n",
        "from pymorphy2 import MorphAnalyzer\n",
        "from stop_words import get_stop_words\n",
        "import annoy\n",
        "from gensim.models import FastText\n",
        "import pickle\n",
        "import numpy as np\n",
        "import re\n",
        "import pickle\n",
        "import pickle\n",
        "from transformers import AutoTokenizer, AutoModelForCausalLM\n",
        "import logging\n",
        "from telegram import Update\n",
        "from telegram.ext import Updater, CommandHandler, MessageHandler, Filters, CallbackContext"
      ],
      "metadata": {
        "id": "5bnoe3oR5bn2"
      },
      "execution_count": null,
      "outputs": []
    },
    {
      "cell_type": "code",
      "source": [
        "morpher = MorphAnalyzer()\n",
        "sw = set(get_stop_words(\"ru\")).difference(['не', 'нет'])\n",
        "exclude = set(string.punctuation).union(['—'])"
      ],
      "metadata": {
        "id": "G3dexdzm65Ng"
      },
      "execution_count": null,
      "outputs": []
    },
    {
      "cell_type": "code",
      "source": [
        "end = ['?', '.', '!', ';']\n",
        "def check_sign(obj:str):\n",
        "    finish = 0\n",
        "    obj = ' '.join(obj.strip().split())\n",
        "    for n, el in enumerate(obj[::-1]):\n",
        "        if el in end:\n",
        "            finish = n\n",
        "            break\n",
        "        else:\n",
        "            continue\n",
        "    return obj[:-finish] if finish > 0 else obj[:]\n",
        "\n",
        "def preprocess_txt(line):\n",
        "    # Убираем HTML тэги\n",
        "    spls = re.sub(r'(<.{,4}>)', '', line)\n",
        "    # Ищем цифры, разделяем их пробелами\n",
        "    spls = [i + ' ' if i.isdigit() else i for i in spls.strip()]\n",
        "    # Убираем знаки препинания\n",
        "    spls = ''.join(i for i in spls if i not in exclude).split()\n",
        "    # spls = [i.lower() for i in spls]\n",
        "    # Приводим к нормальной форме\n",
        "    spls = [morpher.parse(i.lower())[0].normal_form for i in spls]\n",
        "    # Убираем стоп-слова\n",
        "    spls = [i for i in spls if i not in sw and len(i) > 1]\n",
        "    return spls"
      ],
      "metadata": {
        "id": "E0t7H3gE7ABl"
      },
      "execution_count": null,
      "outputs": []
    },
    {
      "cell_type": "code",
      "source": [
        "from google.colab import drive\n",
        "drive.mount('/content/drive/')\n",
        "path = '/content/drive/MyDrive/bot/'"
      ],
      "metadata": {
        "colab": {
          "base_uri": "https://localhost:8080/"
        },
        "id": "cN0lh92FOM-4",
        "outputId": "cbd52d60-37bc-4093-85f7-830659ffe2e5"
      },
      "execution_count": null,
      "outputs": [
        {
          "output_type": "stream",
          "name": "stdout",
          "text": [
            "Mounted at /content/drive/\n"
          ]
        }
      ]
    },
    {
      "cell_type": "code",
      "source": [
        "# Загрузка модели, дерева индексов, словаря индексов (Общие вопросы)\n",
        "modelFT = FastText.load(path + \"ft_model\")\n",
        "ft_index = annoy.AnnoyIndex(450, 'angular')\n",
        "ft_index.load(path + 'speaker.ann')\n",
        "# Словарь ответов\n",
        "with open(path + 'index_speaker.pkl', 'rb') as f:\n",
        "    index_map = pickle.load(f)\n",
        "# Список ключевых слов\n",
        "with open(path + 'key_words.pkl', 'rb') as f:\n",
        "    key_words = pickle.load(f)"
      ],
      "metadata": {
        "id": "7I4bAlpHdtzi"
      },
      "execution_count": null,
      "outputs": []
    },
    {
      "cell_type": "code",
      "source": [
        "# Загружаем предобученную модель генерации текста\n",
        "model_path = '/content/drive/MyDrive/model_gpt_wealth'\n",
        "tokenizer_path = '/content/drive/MyDrive/gpt_wealth'\n",
        "tokenizer = AutoTokenizer.from_pretrained(tokenizer_path)\n",
        "model_g = AutoModelForCausalLM.from_pretrained(model_path)"
      ],
      "metadata": {
        "id": "pEK2nGWF8EAk"
      },
      "execution_count": null,
      "outputs": []
    },
    {
      "cell_type": "code",
      "source": [
        "def get_response_unknown():\n",
        "    variant = ['Ваш вопрос непонятен.',\n",
        "               'Можно сформулировать вопрос по-другому?',\n",
        "               'Даже не знаю, что и сказать.',\n",
        "               'Это Вы со мной разговариваете?']\n",
        "    return variant[np.random.randint(0, len(variant))]"
      ],
      "metadata": {
        "id": "JmZyIvd_N2xg"
      },
      "execution_count": null,
      "outputs": []
    },
    {
      "cell_type": "code",
      "source": [
        "# Получение ответа на общий вопрос\n",
        "def get_response_general(question, index, model, index_map):\n",
        "    question = preprocess_txt(question)\n",
        "    vector = np.zeros(450)\n",
        "    norm = 0\n",
        "    for word in question:\n",
        "        if word in model.wv:\n",
        "            vector += model.wv[word]\n",
        "            norm += 1\n",
        "    if norm > 0:\n",
        "        vector = vector / norm\n",
        "    answers = index.get_nns_by_vector(vector, 5, include_distances=True)\n",
        "    if answers[1][0] > 0.9:\n",
        "        return get_response_unknown()\n",
        "    else:\n",
        "        return [index_map[i].strip() for i in answers[0]][np.random.randint(0, 5)]\n",
        "        # return [index_map[i].strip() for i in answers[0]]\n",
        "# Возможно есть смысл выбирать случайный вариант их нескольких ответов."
      ],
      "metadata": {
        "id": "-P1ly8I50uLB"
      },
      "execution_count": null,
      "outputs": []
    },
    {
      "cell_type": "code",
      "source": [
        "# Получение ответа в модели генерации текста\n",
        "def get_response_wealth(question, model, tokenizer):\n",
        "    tokens = tokenizer(question, return_tensors='pt')\n",
        "    size = tokens['input_ids'].shape[1]\n",
        "    output = model.generate(**tokens, do_sample=True, max_length=size+180, repetition_penalty=3., temperature=1.05, num_beams=5,)\n",
        "    # output = model.generate(**tokens, do_sample=True, max_length=size+150, repetition_penalty=5., temperature=2.999, num_beams=2,)\n",
        "    decoded = tokenizer.decode(output[0])\n",
        "    result = decoded[len(question):]\n",
        "    # return result\n",
        "    return check_sign(result)"
      ],
      "metadata": {
        "id": "3Qlh6cBV87tA"
      },
      "execution_count": null,
      "outputs": []
    },
    {
      "cell_type": "code",
      "source": [
        "text = '.'\n",
        "get_response_general(text, ft_index, modelFT, index_map)"
      ],
      "metadata": {
        "id": "USoX3Qje1ch0",
        "colab": {
          "base_uri": "https://localhost:8080/",
          "height": 125
        },
        "outputId": "1991a6cc-b8f3-4d37-f72c-f2f633ab52a8"
      },
      "execution_count": null,
      "outputs": [
        {
          "output_type": "display_data",
          "data": {
            "text/plain": [
              "<IPython.core.display.HTML object>"
            ],
            "text/html": [
              "\n",
              "  <style>\n",
              "    pre {\n",
              "        white-space: pre-wrap;\n",
              "    }\n",
              "  </style>\n",
              "  "
            ]
          },
          "metadata": {}
        },
        {
          "output_type": "stream",
          "name": "stdout",
          "text": [
            "([176, 420, 1027, 1615, 1746], [1.4142135381698608, 1.4142135381698608, 1.4142135381698608, 1.4142135381698608, 1.4142135381698608])\n"
          ]
        },
        {
          "output_type": "execute_result",
          "data": {
            "text/plain": [
              "['Да ладно! Не кипятись! Ночная смена только собирается!',\n",
              " 'кобздец, придется уйти скоро, если не отдашься, по себе знаю, не отдалась-пришлось уйти.',\n",
              " 'Отчасти в этом что-то есть... но и как аксиому не следует это воспринимать.',\n",
              " 'кризис - скучно.. . с этим можно бороться обоюдно желательно).',\n",
              " 'реально, но не сейчас.']"
            ]
          },
          "metadata": {},
          "execution_count": 101
        }
      ]
    },
    {
      "cell_type": "code",
      "source": [
        "text = 'Алексей Мордашов'\n",
        "get_response_wealth(text, model_g, tokenizer)"
      ],
      "metadata": {
        "colab": {
          "base_uri": "https://localhost:8080/",
          "height": 89
        },
        "id": "eawvihAM-Ye1",
        "outputId": "4e8b11b9-2d46-43e9-87d9-4b236feb2e62"
      },
      "execution_count": null,
      "outputs": [
        {
          "output_type": "display_data",
          "data": {
            "text/plain": [
              "<IPython.core.display.HTML object>"
            ],
            "text/html": [
              "\n",
              "  <style>\n",
              "    pre {\n",
              "        white-space: pre-wrap;\n",
              "    }\n",
              "  </style>\n",
              "  "
            ]
          },
          "metadata": {}
        },
        {
          "output_type": "execute_result",
          "data": {
            "text/plain": [
              "'— о жизненном пути олигарха, Владимире Путине и российских миллиардерах. Стоит отметить, что в отличие от большинства российских мультимиллионеров, российские мультимиллионеры относительно молоды. И по общему количеству активов (в России их уже около четырех тысяч) можно уверенно сказать, что очередные витки истории мы пережили не зря. В 1999 году исполнилось сто лет со дня рождения первого вице-премьера РФ, Виктора Черномырдина. Тогда же началась история с Вагитом Алекперовым, которому нынче уже 79 лет.'"
            ],
            "application/vnd.google.colaboratory.intrinsic+json": {
              "type": "string"
            }
          },
          "metadata": {},
          "execution_count": 144
        }
      ]
    },
    {
      "cell_type": "code",
      "source": [
        "def check_question(obj:list):\n",
        "      amount = len(obj) if len(obj) > 0 else 1\n",
        "      check = sum([1 for el in obj if el in key_words]) / amount\n",
        "      if check > 0.1: #(0.29)\n",
        "          return 1\n",
        "      else:\n",
        "          return 0\n",
        "\n",
        "# def get_answer(text):\n",
        "#     spam = preprocess_txt(text)\n",
        "#     if len(spam) < 1:\n",
        "#         return get_response_unknown()\n",
        "#     eggs = check_question(spam)\n",
        "#     if eggs == 0:\n",
        "#         answer = get_response_general(text, ft_index, modelFT, index_map)\n",
        "#         # Тут надо предусмотреть нерелевантный ответ.\n",
        "#     else:\n",
        "#         answer = get_response_wealth(text, model_g, tokenizer)\n",
        "#     return answer"
      ],
      "metadata": {
        "id": "wwnbgD4kClcS"
      },
      "execution_count": null,
      "outputs": []
    },
    {
      "cell_type": "code",
      "source": [
        "updater = Updater(\"6637934622:AAHhU0s42SFp05HcH6p-92GIDQJ48dlrPTQ\", use_context=True)  # Токен API к Telegram\n",
        "dispatcher = updater.dispatcher"
      ],
      "metadata": {
        "id": "qOcWWap-QFon"
      },
      "execution_count": null,
      "outputs": []
    },
    {
      "cell_type": "code",
      "source": [
        "def startCommand(update: Update, context: CallbackContext):\n",
        "    update.message.reply_text('Добрый день!')\n",
        "\n",
        "def textMessage(update: Update, context: CallbackContext):\n",
        "\n",
        "    spam = preprocess_txt(update.message.text)\n",
        "    if len(spam) < 2:\n",
        "        update.message.reply_text(get_response_unknown())\n",
        "        return\n",
        "    eggs = check_question(spam)\n",
        "    if eggs == 0:\n",
        "        answer = get_response_general(update.message.text, ft_index, modelFT, index_map)\n",
        "        update.message.reply_text(answer)\n",
        "        # Тут надо предусмотреть нерелевантный ответ.\n",
        "    else:\n",
        "        answer = get_response_wealth(update.message.text, model_g, tokenizer)\n",
        "        update.message.reply_text(answer)\n",
        "    return"
      ],
      "metadata": {
        "id": "1wvDTqHlQLeY"
      },
      "execution_count": null,
      "outputs": []
    },
    {
      "cell_type": "code",
      "source": [
        "# on different commands - answer in Telegram\n",
        "dispatcher.add_handler(CommandHandler(\"start\", startCommand))\n",
        "dispatcher.add_handler(MessageHandler(Filters.text & ~Filters.command, textMessage))\n",
        "\n",
        "# Start the Bot\n",
        "updater.start_polling()\n",
        "updater.idle()"
      ],
      "metadata": {
        "colab": {
          "base_uri": "https://localhost:8080/"
        },
        "id": "R3zWmBzORWKV",
        "outputId": "5b8bb11a-9e5f-420e-9dbc-d26c7e2f2021"
      },
      "execution_count": null,
      "outputs": [
        {
          "output_type": "stream",
          "name": "stderr",
          "text": [
            "ERROR:telegram.ext.dispatcher:No error handlers are registered, logging exception.\n",
            "Traceback (most recent call last):\n",
            "  File \"/usr/local/lib/python3.10/dist-packages/telegram/ext/dispatcher.py\", line 442, in process_update\n",
            "    handler.handle_update(update, self, check, context)\n",
            "  File \"/usr/local/lib/python3.10/dist-packages/telegram/ext/handler.py\", line 160, in handle_update\n",
            "    return self.callback(update, context)\n",
            "  File \"<ipython-input-13-40960ed758c4>\", line 6, in textMessage\n",
            "    spam = preprocess_txt(update.message.text)\n",
            "AttributeError: 'NoneType' object has no attribute 'text'\n",
            "ERROR:telegram.ext.dispatcher:No error handlers are registered, logging exception.\n",
            "Traceback (most recent call last):\n",
            "  File \"/usr/local/lib/python3.10/dist-packages/telegram/ext/dispatcher.py\", line 442, in process_update\n",
            "    handler.handle_update(update, self, check, context)\n",
            "  File \"/usr/local/lib/python3.10/dist-packages/telegram/ext/handler.py\", line 160, in handle_update\n",
            "    return self.callback(update, context)\n",
            "  File \"<ipython-input-13-40960ed758c4>\", line 13, in textMessage\n",
            "    update.message.reply_text(answer)\n",
            "  File \"/usr/local/lib/python3.10/dist-packages/telegram/message.py\", line 636, in reply_text\n",
            "    return self.bot.send_message(\n",
            "  File \"/usr/local/lib/python3.10/dist-packages/telegram/bot.py\", line 126, in decorator\n",
            "    result = func(*args, **kwargs)\n",
            "  File \"/usr/local/lib/python3.10/dist-packages/telegram/bot.py\", line 474, in send_message\n",
            "    return self._message(  # type: ignore[return-value]\n",
            "  File \"/usr/local/lib/python3.10/dist-packages/telegram/bot.py\", line 295, in _message\n",
            "    result = self._post(endpoint, data, timeout=timeout, api_kwargs=api_kwargs)\n",
            "  File \"/usr/local/lib/python3.10/dist-packages/telegram/bot.py\", line 258, in _post\n",
            "    return self.request.post(\n",
            "  File \"/usr/local/lib/python3.10/dist-packages/telegram/utils/request.py\", line 349, in post\n",
            "    result = self._request_wrapper(\n",
            "  File \"/usr/local/lib/python3.10/dist-packages/telegram/utils/request.py\", line 272, in _request_wrapper\n",
            "    raise BadRequest(message)\n",
            "telegram.error.BadRequest: Message is too long\n",
            "ERROR:telegram.ext.dispatcher:No error handlers are registered, logging exception.\n",
            "Traceback (most recent call last):\n",
            "  File \"/usr/local/lib/python3.10/dist-packages/telegram/ext/dispatcher.py\", line 442, in process_update\n",
            "    handler.handle_update(update, self, check, context)\n",
            "  File \"/usr/local/lib/python3.10/dist-packages/telegram/ext/handler.py\", line 160, in handle_update\n",
            "    return self.callback(update, context)\n",
            "  File \"<ipython-input-13-40960ed758c4>\", line 13, in textMessage\n",
            "    update.message.reply_text(answer)\n",
            "  File \"/usr/local/lib/python3.10/dist-packages/telegram/message.py\", line 636, in reply_text\n",
            "    return self.bot.send_message(\n",
            "  File \"/usr/local/lib/python3.10/dist-packages/telegram/bot.py\", line 126, in decorator\n",
            "    result = func(*args, **kwargs)\n",
            "  File \"/usr/local/lib/python3.10/dist-packages/telegram/bot.py\", line 474, in send_message\n",
            "    return self._message(  # type: ignore[return-value]\n",
            "  File \"/usr/local/lib/python3.10/dist-packages/telegram/bot.py\", line 295, in _message\n",
            "    result = self._post(endpoint, data, timeout=timeout, api_kwargs=api_kwargs)\n",
            "  File \"/usr/local/lib/python3.10/dist-packages/telegram/bot.py\", line 258, in _post\n",
            "    return self.request.post(\n",
            "  File \"/usr/local/lib/python3.10/dist-packages/telegram/utils/request.py\", line 349, in post\n",
            "    result = self._request_wrapper(\n",
            "  File \"/usr/local/lib/python3.10/dist-packages/telegram/utils/request.py\", line 272, in _request_wrapper\n",
            "    raise BadRequest(message)\n",
            "telegram.error.BadRequest: Message is too long\n",
            "ERROR:telegram.ext.dispatcher:No error handlers are registered, logging exception.\n",
            "Traceback (most recent call last):\n",
            "  File \"/usr/local/lib/python3.10/dist-packages/telegram/ext/dispatcher.py\", line 442, in process_update\n",
            "    handler.handle_update(update, self, check, context)\n",
            "  File \"/usr/local/lib/python3.10/dist-packages/telegram/ext/handler.py\", line 160, in handle_update\n",
            "    return self.callback(update, context)\n",
            "  File \"<ipython-input-13-40960ed758c4>\", line 6, in textMessage\n",
            "    spam = preprocess_txt(update.message.text)\n",
            "AttributeError: 'NoneType' object has no attribute 'text'\n"
          ]
        }
      ]
    },
    {
      "cell_type": "code",
      "source": [
        "text = 'Как Алекперов стал миллионером?'\n",
        "get_answer(text)"
      ],
      "metadata": {
        "colab": {
          "base_uri": "https://localhost:8080/",
          "height": 89
        },
        "id": "IgU6UGHNIYB-",
        "outputId": "29241a0d-ee06-449a-c5d9-274206981068"
      },
      "execution_count": null,
      "outputs": [
        {
          "output_type": "display_data",
          "data": {
            "text/plain": [
              "<IPython.core.display.HTML object>"
            ],
            "text/html": [
              "\n",
              "  <style>\n",
              "    pre {\n",
              "        white-space: pre-wrap;\n",
              "    }\n",
              "  </style>\n",
              "  "
            ]
          },
          "metadata": {}
        },
        {
          "output_type": "execute_result",
          "data": {
            "text/plain": [
              "'(выберите свой вариант ответа) — благодаря участию в операциях по конвертации рублей в доллары; — благодаря тесным связям с правительственными кругами России, Китая и США; Россия Алекперов Вагит Юсуфович — президент ОАО \"НК \"ЛУКОЙЛ\", владелец 75 % акций этого предприятия. Ежегодный оборот компании составляет 1,8 миллиарда долларов. Состояние оценивается в 15 миллиардов долларов - 65-е место в рейтинге Forbes! Евтушенков Владимир Петрович — вице-президент Российского Союза промышленников и предпринимателей, основатель и Председатель Совета директоров консорциума «Альфа-групп», куда входят: Альфа-банк (финансы), группа «АльфаСтрахование»;'"
            ],
            "application/vnd.google.colaboratory.intrinsic+json": {
              "type": "string"
            }
          },
          "metadata": {},
          "execution_count": 106
        }
      ]
    },
    {
      "cell_type": "code",
      "source": [],
      "metadata": {
        "id": "LMRq4IPeIYPr"
      },
      "execution_count": null,
      "outputs": []
    },
    {
      "cell_type": "code",
      "source": [
        "n = 0\n",
        "with open('Otvety.txt', 'r')as f:\n",
        "  for line in f:\n",
        "    print(line)\n",
        "    n += 1\n",
        "    if n > 50:\n",
        "      break"
      ],
      "metadata": {
        "id": "JXyBLx1qmwVQ"
      },
      "execution_count": null,
      "outputs": []
    },
    {
      "cell_type": "code",
      "source": [
        "size = tokens['input_ids'].shape[1]\n",
        "output = model1.generate(\n",
        "    **tokens,\n",
        "    #end_token=end_token_id,\n",
        "    do_sample=True,\n",
        "    max_length=size+230,\n",
        "    repetition_penalty=7.,\n",
        "    temperature=1.05,\n",
        "    num_beams=5,)\n",
        "\n",
        "decoded = tokenizer.decode(output[0])\n",
        "result = decoded[len(prefix):]\n",
        "print(prefix + result)"
      ],
      "metadata": {
        "colab": {
          "base_uri": "https://localhost:8080/"
        },
        "id": "b595sTeywWYJ",
        "outputId": "2115d924-eedc-4f02-d26c-f5a0f44b239f"
      },
      "execution_count": null,
      "outputs": [
        {
          "output_type": "stream",
          "name": "stdout",
          "text": [
            "Кто и зачем создал деньги? (выберите свой вариант ответа) — чтобы все были довольны; — чтобы каждому досталось по серьгам; — чтобы не случилось \"перекоса\" в сторону обогащения;\n",
            "Россия\n",
            "Деньги любят решительных людей. Они добиваются успеха, основываясь на собственных ошибках и достижениях. Такие люди могут стать высокооплачиваемыми сотрудниками, менеджерами, инвесторами. Их девиз: \"Только оригинальная личность сможет сделать деньги\".\n",
            "Америка\n",
            "Джон Рокфеллер-старший начал свою карьеру как агент по продаже спецпредприятий США. В конце концов, он стал известен, как человек весьма сведущий в финансовых делах. Открыл счет в банке и был зачислен в штат пожарной инспекции Нью-Йорка. Провел неделю в резерве, готовясь к вылету навстречу смертельной опасности. Взлет прошел удачно, а вот приземление -неудобно. Пришлось срочно вызывать \"скорую\". Дежурный врач запросил у Рокфеллера выписку из больницы. Но когда тот ознакомился с информацией, выписанной ему врачом, вынужден был отказаться от этой безумной идеи. Ведь если кто-то другой читает его\n"
          ]
        }
      ]
    }
  ]
}