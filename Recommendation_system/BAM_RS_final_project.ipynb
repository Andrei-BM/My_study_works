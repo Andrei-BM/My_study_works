{
 "cells": [
  {
   "cell_type": "code",
   "execution_count": 1,
   "id": "c9e8c77c",
   "metadata": {},
   "outputs": [],
   "source": [
    "%load_ext autoreload\n",
    "%autoreload 2"
   ]
  },
  {
   "cell_type": "markdown",
   "id": "ad85044e",
   "metadata": {},
   "source": [
    "## Финальный проект по курсу \"Рекомендательные системы.\""
   ]
  },
  {
   "cell_type": "markdown",
   "id": "3b73db52",
   "metadata": {},
   "source": [
    "#### Загрузка библиотек и скриптов"
   ]
  },
  {
   "cell_type": "code",
   "execution_count": 116,
   "id": "09796f08",
   "metadata": {},
   "outputs": [],
   "source": [
    "import pandas as pd\n",
    "import numpy as np\n",
    "from pandas import MultiIndex\n",
    "import os\n",
    "os.chdir('C://users//andrei//downloads//lection2//')\n",
    "\n",
    "from lightgbm import LGBMClassifier\n",
    "from catboost import CatBoostRanker\n",
    "from sklearn.metrics import classification_report, precision_recall_curve\n",
    "\n",
    "# Для работы с матрицами\n",
    "from scipy.sparse import csr_matrix\n",
    "\n",
    "# Матричная факторизация\n",
    "from implicit.als import AlternatingLeastSquares  \n",
    "from implicit.nearest_neighbours import bm25_weight, tfidf_weight, ItemItemRecommender, CosineRecommender\n",
    "\n",
    "from lightgbm import LGBMClassifier\n",
    "\n",
    "from src.utils import prefilter_items\n",
    "from src.recommenders import MainRecommender\n",
    "from src.metrics import recall_at_k, precision_at_k"
   ]
  },
  {
   "cell_type": "markdown",
   "id": "9d0c344e",
   "metadata": {},
   "source": [
    "#### Загрузка данных"
   ]
  },
  {
   "cell_type": "code",
   "execution_count": 117,
   "id": "94d1e7fd",
   "metadata": {},
   "outputs": [],
   "source": [
    "data = pd.read_csv('retail_train.csv')\n",
    "item_features = pd.read_csv('product.csv')\n",
    "user_features = pd.read_csv('hh_demographic.csv')\n",
    "data_test = pd.read_csv('retail_test.csv')"
   ]
  },
  {
   "cell_type": "markdown",
   "id": "413e0d5f",
   "metadata": {},
   "source": [
    "Приведем названия столбцов к общему виду"
   ]
  },
  {
   "cell_type": "code",
   "execution_count": 118,
   "id": "74ddb30a",
   "metadata": {},
   "outputs": [],
   "source": [
    "item_features.columns = [col.lower() for col in item_features.columns]\n",
    "user_features.columns = [col.lower() for col in user_features.columns]\n",
    "\n",
    "item_features.rename(columns={'product_id': 'item_id'}, inplace=True)\n",
    "user_features.rename(columns={'household_key': 'user_id'}, inplace=True)"
   ]
  },
  {
   "cell_type": "markdown",
   "id": "e79ad2f8",
   "metadata": {},
   "source": [
    "#### Разделение на обучение и валидацию"
   ]
  },
  {
   "cell_type": "markdown",
   "id": "11f48d7a",
   "metadata": {},
   "source": [
    "Модель первого этапа (предожение рекомендаций методами библиотеки Implicit) обучим на всём датасете, кроме 6 последних недель, валидировать её будем на оставшейся части;\n",
    "\n",
    "Модель второго этапа (отбор рекомендаций) будем обучать на 6 последних неделях.\n",
    "\n"
   ]
  },
  {
   "cell_type": "code",
   "execution_count": 253,
   "id": "3b0c900c",
   "metadata": {},
   "outputs": [
    {
     "data": {
      "text/html": [
       "<div>\n",
       "<style scoped>\n",
       "    .dataframe tbody tr th:only-of-type {\n",
       "        vertical-align: middle;\n",
       "    }\n",
       "\n",
       "    .dataframe tbody tr th {\n",
       "        vertical-align: top;\n",
       "    }\n",
       "\n",
       "    .dataframe thead th {\n",
       "        text-align: right;\n",
       "    }\n",
       "</style>\n",
       "<table border=\"1\" class=\"dataframe\">\n",
       "  <thead>\n",
       "    <tr style=\"text-align: right;\">\n",
       "      <th></th>\n",
       "      <th>user_id</th>\n",
       "      <th>basket_id</th>\n",
       "      <th>day</th>\n",
       "      <th>item_id</th>\n",
       "      <th>quantity</th>\n",
       "      <th>sales_value</th>\n",
       "      <th>store_id</th>\n",
       "      <th>retail_disc</th>\n",
       "      <th>trans_time</th>\n",
       "      <th>week_no</th>\n",
       "      <th>coupon_disc</th>\n",
       "      <th>coupon_match_disc</th>\n",
       "    </tr>\n",
       "  </thead>\n",
       "  <tbody>\n",
       "    <tr>\n",
       "      <th>0</th>\n",
       "      <td>2375</td>\n",
       "      <td>26984851472</td>\n",
       "      <td>1</td>\n",
       "      <td>1004906</td>\n",
       "      <td>1</td>\n",
       "      <td>1.39</td>\n",
       "      <td>364</td>\n",
       "      <td>-0.6</td>\n",
       "      <td>1631</td>\n",
       "      <td>1</td>\n",
       "      <td>0.0</td>\n",
       "      <td>0.0</td>\n",
       "    </tr>\n",
       "    <tr>\n",
       "      <th>1</th>\n",
       "      <td>2375</td>\n",
       "      <td>26984851472</td>\n",
       "      <td>1</td>\n",
       "      <td>1033142</td>\n",
       "      <td>1</td>\n",
       "      <td>0.82</td>\n",
       "      <td>364</td>\n",
       "      <td>0.0</td>\n",
       "      <td>1631</td>\n",
       "      <td>1</td>\n",
       "      <td>0.0</td>\n",
       "      <td>0.0</td>\n",
       "    </tr>\n",
       "  </tbody>\n",
       "</table>\n",
       "</div>"
      ],
      "text/plain": [
       "   user_id    basket_id  day  item_id  quantity  sales_value  store_id  \\\n",
       "0     2375  26984851472    1  1004906         1         1.39       364   \n",
       "1     2375  26984851472    1  1033142         1         0.82       364   \n",
       "\n",
       "   retail_disc  trans_time  week_no  coupon_disc  coupon_match_disc  \n",
       "0         -0.6        1631        1          0.0                0.0  \n",
       "1          0.0        1631        1          0.0                0.0  "
      ]
     },
     "execution_count": 253,
     "metadata": {},
     "output_type": "execute_result"
    }
   ],
   "source": [
    "# Размер валидационной выборки в неделях.\n",
    "val_size = 6\n",
    "\n",
    "# Данные для обучения модели 1-го уровня.\n",
    "data_train = data[data['week_no'] < data['week_no'].max() - val_size]\n",
    "\n",
    "# Валидационные данные для модели 1-го уровня.\n",
    "data_val = data[(data['week_no'] >= data['week_no'].max() - val_size)]\n",
    "\n",
    "# Тренировочные для модели 2-го уровня\n",
    "# data_train_2 = data_val.copy()\n",
    "\n",
    "data_train.head(2)"
   ]
  },
  {
   "cell_type": "markdown",
   "id": "df8c05ce",
   "metadata": {},
   "source": [
    "#### Префильтрация товаров"
   ]
  },
  {
   "cell_type": "markdown",
   "id": "9f058b93",
   "metadata": {},
   "source": [
    "Отберём товары согласно нашей функции prefilter из модуля utils.py.\n",
    "А именно:\n",
    "\n",
    "    - Убираем самые популярные товары;\n",
    "    - Самые непопулярные товары;\n",
    "    - Товары которые не продавались в течении 12 месяцев;\n",
    "    - Не интересные для рекомендаций (субъективный выбор некоторых категорий, судя по топ-проданных товаров данные собраны о магазинах на АЗС, поэтому нет смысла оставлять раздел в котором продаётся бензин.)\n",
    "    - Слишком дешевые товары. Дорогие товары было решено не трогать. Вряд ли они попадут в ТОП и будут рекомендованы.\n",
    "    - В обработанный датасет не включаем \"фейковый\" товар."
   ]
  },
  {
   "cell_type": "code",
   "execution_count": 254,
   "id": "110531b5",
   "metadata": {},
   "outputs": [
    {
     "name": "stdout",
     "output_type": "stream",
     "text": [
      "Количество товаров уменьшено c - 85334 до 6000.\n"
     ]
    }
   ],
   "source": [
    "old = data_train['item_id'].nunique()\n",
    "data_train = prefilter_items(data_train, item_features, take_n_popular=6000)\n",
    "new = data_train['item_id'].nunique()\n",
    "print(f'Количество товаров уменьшено c - {old} до {new}.')"
   ]
  },
  {
   "cell_type": "code",
   "execution_count": 198,
   "id": "8b2a4b3c",
   "metadata": {},
   "outputs": [
    {
     "data": {
      "text/html": [
       "<div>\n",
       "<style scoped>\n",
       "    .dataframe tbody tr th:only-of-type {\n",
       "        vertical-align: middle;\n",
       "    }\n",
       "\n",
       "    .dataframe tbody tr th {\n",
       "        vertical-align: top;\n",
       "    }\n",
       "\n",
       "    .dataframe thead th {\n",
       "        text-align: right;\n",
       "    }\n",
       "</style>\n",
       "<table border=\"1\" class=\"dataframe\">\n",
       "  <thead>\n",
       "    <tr style=\"text-align: right;\">\n",
       "      <th></th>\n",
       "      <th>user_id</th>\n",
       "      <th>basket_id</th>\n",
       "      <th>day</th>\n",
       "      <th>item_id</th>\n",
       "      <th>quantity</th>\n",
       "      <th>sales_value</th>\n",
       "      <th>store_id</th>\n",
       "      <th>retail_disc</th>\n",
       "      <th>trans_time</th>\n",
       "      <th>week_no</th>\n",
       "      <th>coupon_disc</th>\n",
       "      <th>coupon_match_disc</th>\n",
       "      <th>price</th>\n",
       "    </tr>\n",
       "  </thead>\n",
       "  <tbody>\n",
       "    <tr>\n",
       "      <th>0</th>\n",
       "      <td>2375</td>\n",
       "      <td>26984851472</td>\n",
       "      <td>1</td>\n",
       "      <td>1004906</td>\n",
       "      <td>1</td>\n",
       "      <td>1.39</td>\n",
       "      <td>364</td>\n",
       "      <td>-0.60</td>\n",
       "      <td>1631</td>\n",
       "      <td>1</td>\n",
       "      <td>0.0</td>\n",
       "      <td>0.0</td>\n",
       "      <td>1.39</td>\n",
       "    </tr>\n",
       "    <tr>\n",
       "      <th>4</th>\n",
       "      <td>2375</td>\n",
       "      <td>26984851472</td>\n",
       "      <td>1</td>\n",
       "      <td>8160430</td>\n",
       "      <td>1</td>\n",
       "      <td>1.50</td>\n",
       "      <td>364</td>\n",
       "      <td>-0.39</td>\n",
       "      <td>1631</td>\n",
       "      <td>1</td>\n",
       "      <td>0.0</td>\n",
       "      <td>0.0</td>\n",
       "      <td>1.50</td>\n",
       "    </tr>\n",
       "  </tbody>\n",
       "</table>\n",
       "</div>"
      ],
      "text/plain": [
       "   user_id    basket_id  day  item_id  quantity  sales_value  store_id  \\\n",
       "0     2375  26984851472    1  1004906         1         1.39       364   \n",
       "4     2375  26984851472    1  8160430         1         1.50       364   \n",
       "\n",
       "   retail_disc  trans_time  week_no  coupon_disc  coupon_match_disc  price  \n",
       "0        -0.60        1631        1          0.0                0.0   1.39  \n",
       "4        -0.39        1631        1          0.0                0.0   1.50  "
      ]
     },
     "execution_count": 198,
     "metadata": {},
     "output_type": "execute_result"
    }
   ],
   "source": [
    "data_train.head(2)"
   ]
  },
  {
   "cell_type": "code",
   "execution_count": 255,
   "id": "d2ae7c87",
   "metadata": {},
   "outputs": [
    {
     "name": "stdout",
     "output_type": "stream",
     "text": [
      "Количество пользователей уменьшено с 2197 до 2185\n"
     ]
    }
   ],
   "source": [
    "# Уберем из валидации тех пользователей которых нет в тренировочной части\n",
    "old = data_val['user_id'].nunique()\n",
    "users = data_train['user_id'].unique()\n",
    "data_val = data_val.loc[data_val['user_id'].isin(users)]\n",
    "# data_train_2 = data_train_2.loc[data_train_2['user_id'].isin(users)]\n",
    "new = data_val['user_id'].nunique()\n",
    "print(f'Количество пользователей уменьшено с {old} до {new}')"
   ]
  },
  {
   "cell_type": "markdown",
   "id": "b076a821",
   "metadata": {},
   "source": [
    "### Этап 1 отбор рекомендаций, выбор модели отбора"
   ]
  },
  {
   "cell_type": "code",
   "execution_count": 256,
   "id": "d66ce213",
   "metadata": {},
   "outputs": [
    {
     "data": {
      "application/vnd.jupyter.widget-view+json": {
       "model_id": "733fa8ea807b4f05a91df275d27d147e",
       "version_major": 2,
       "version_minor": 0
      },
      "text/plain": [
       "  0%|          | 0/20 [00:00<?, ?it/s]"
      ]
     },
     "metadata": {},
     "output_type": "display_data"
    },
    {
     "data": {
      "application/vnd.jupyter.widget-view+json": {
       "model_id": "576007b533b4482aa12ccff51bd9782a",
       "version_major": 2,
       "version_minor": 0
      },
      "text/plain": [
       "  0%|          | 0/6000 [00:00<?, ?it/s]"
      ]
     },
     "metadata": {},
     "output_type": "display_data"
    },
    {
     "name": "stderr",
     "output_type": "stream",
     "text": [
      "C:\\ProgramData\\Anaconda3\\lib\\site-packages\\implicit\\utils.py:138: ParameterWarning: Method expects CSR input, and was passed coo_matrix instead. Converting to CSR took 0.012000799179077148 seconds\n",
      "  warnings.warn(\n"
     ]
    },
    {
     "data": {
      "application/vnd.jupyter.widget-view+json": {
       "model_id": "6f87dbeec5784c91bf06608a30fa96bc",
       "version_major": 2,
       "version_minor": 0
      },
      "text/plain": [
       "  0%|          | 0/6000 [00:00<?, ?it/s]"
      ]
     },
     "metadata": {},
     "output_type": "display_data"
    }
   ],
   "source": [
    "# Инициализируем наш модуль\n",
    "recommender = MainRecommender(data_train, item_features)"
   ]
  },
  {
   "cell_type": "code",
   "execution_count": 257,
   "id": "640a1ff3",
   "metadata": {},
   "outputs": [
    {
     "data": {
      "text/html": [
       "<div>\n",
       "<style scoped>\n",
       "    .dataframe tbody tr th:only-of-type {\n",
       "        vertical-align: middle;\n",
       "    }\n",
       "\n",
       "    .dataframe tbody tr th {\n",
       "        vertical-align: top;\n",
       "    }\n",
       "\n",
       "    .dataframe thead th {\n",
       "        text-align: right;\n",
       "    }\n",
       "</style>\n",
       "<table border=\"1\" class=\"dataframe\">\n",
       "  <thead>\n",
       "    <tr style=\"text-align: right;\">\n",
       "      <th></th>\n",
       "      <th>user_id</th>\n",
       "      <th>actual</th>\n",
       "    </tr>\n",
       "  </thead>\n",
       "  <tbody>\n",
       "    <tr>\n",
       "      <th>0</th>\n",
       "      <td>1</td>\n",
       "      <td>[829323, 835108, 836423, 851515, 875240, 87737...</td>\n",
       "    </tr>\n",
       "    <tr>\n",
       "      <th>1</th>\n",
       "      <td>2</td>\n",
       "      <td>[895388, 8357614, 12301772, 821083, 828106, 83...</td>\n",
       "    </tr>\n",
       "  </tbody>\n",
       "</table>\n",
       "</div>"
      ],
      "text/plain": [
       "   user_id                                             actual\n",
       "0        1  [829323, 835108, 836423, 851515, 875240, 87737...\n",
       "1        2  [895388, 8357614, 12301772, 821083, 828106, 83..."
      ]
     },
     "execution_count": 257,
     "metadata": {},
     "output_type": "execute_result"
    }
   ],
   "source": [
    "# Подготовим валидационный датасет для оценки качества\n",
    "result = data_val.groupby('user_id')['item_id'].unique().reset_index()\n",
    "result.columns = ['user_id', 'actual']\n",
    "result.head(2)"
   ]
  },
  {
   "cell_type": "code",
   "execution_count": 258,
   "id": "3fd4d9ec",
   "metadata": {},
   "outputs": [],
   "source": [
    "def make_recommendations(data, name_model, N=50):\n",
    "    rec_name = name_model[0]\n",
    "    rec_model = name_model[1]\n",
    "    data[rec_name] = data['user_id'].apply(lambda x: rec_model(x, N=N))"
   ]
  },
  {
   "cell_type": "code",
   "execution_count": 259,
   "id": "fd8f2104",
   "metadata": {},
   "outputs": [],
   "source": [
    "def calc_recall(data, top_k):\n",
    "    for col_name in data.columns[2:]:\n",
    "        yield col_name, data.apply(lambda row: recall_at_k(row[col_name], row['actual'], k=top_k), axis=1).mean()"
   ]
  },
  {
   "cell_type": "code",
   "execution_count": 260,
   "id": "6a318d20",
   "metadata": {},
   "outputs": [],
   "source": [
    "def calc_precision(data, top_k):\n",
    "    for col_name in data.columns[2:]:\n",
    "        yield col_name, data.apply(lambda row: precision_at_k(row[col_name], row['actual'], k=top_k), axis=1).mean()"
   ]
  },
  {
   "cell_type": "code",
   "execution_count": 261,
   "id": "581af997",
   "metadata": {},
   "outputs": [],
   "source": [
    "own_rec = ('own_recs', recommender.get_own_recommendations) # K=2\n",
    "als_rec = ('als_recs', recommender.get_als_recommendations)\n",
    "cosine_rec = ('cosine_recs', recommender.get_cosine_recommender)"
   ]
  },
  {
   "cell_type": "code",
   "execution_count": 262,
   "id": "1f0d26e3",
   "metadata": {},
   "outputs": [],
   "source": [
    "for rec in (own_rec, als_rec, cosine_rec):\n",
    "    make_recommendations(result, rec)"
   ]
  },
  {
   "cell_type": "code",
   "execution_count": 263,
   "id": "908f2e15",
   "metadata": {},
   "outputs": [
    {
     "data": {
      "text/html": [
       "<div>\n",
       "<style scoped>\n",
       "    .dataframe tbody tr th:only-of-type {\n",
       "        vertical-align: middle;\n",
       "    }\n",
       "\n",
       "    .dataframe tbody tr th {\n",
       "        vertical-align: top;\n",
       "    }\n",
       "\n",
       "    .dataframe thead th {\n",
       "        text-align: right;\n",
       "    }\n",
       "</style>\n",
       "<table border=\"1\" class=\"dataframe\">\n",
       "  <thead>\n",
       "    <tr style=\"text-align: right;\">\n",
       "      <th></th>\n",
       "      <th>user_id</th>\n",
       "      <th>actual</th>\n",
       "      <th>own_recs</th>\n",
       "      <th>als_recs</th>\n",
       "      <th>cosine_recs</th>\n",
       "    </tr>\n",
       "  </thead>\n",
       "  <tbody>\n",
       "    <tr>\n",
       "      <th>0</th>\n",
       "      <td>1</td>\n",
       "      <td>[829323, 835108, 836423, 851515, 875240, 87737...</td>\n",
       "      <td>[961554, 1004906, 9527290, 940947, 1006184, 85...</td>\n",
       "      <td>[856942, 8090541, 5577022, 940947, 1082269, 10...</td>\n",
       "      <td>[856942, 9297615, 8090541, 5577022, 940947, 96...</td>\n",
       "    </tr>\n",
       "    <tr>\n",
       "      <th>1</th>\n",
       "      <td>2</td>\n",
       "      <td>[895388, 8357614, 12301772, 821083, 828106, 83...</td>\n",
       "      <td>[961554, 1004906, 5569230, 916122, 1106523, 11...</td>\n",
       "      <td>[5569230, 8090521, 916122, 1133018, 8090537, 1...</td>\n",
       "      <td>[5569230, 8090521, 8090537, 916122, 1106523, 1...</td>\n",
       "    </tr>\n",
       "  </tbody>\n",
       "</table>\n",
       "</div>"
      ],
      "text/plain": [
       "   user_id                                             actual  \\\n",
       "0        1  [829323, 835108, 836423, 851515, 875240, 87737...   \n",
       "1        2  [895388, 8357614, 12301772, 821083, 828106, 83...   \n",
       "\n",
       "                                            own_recs  \\\n",
       "0  [961554, 1004906, 9527290, 940947, 1006184, 85...   \n",
       "1  [961554, 1004906, 5569230, 916122, 1106523, 11...   \n",
       "\n",
       "                                            als_recs  \\\n",
       "0  [856942, 8090541, 5577022, 940947, 1082269, 10...   \n",
       "1  [5569230, 8090521, 916122, 1133018, 8090537, 1...   \n",
       "\n",
       "                                         cosine_recs  \n",
       "0  [856942, 9297615, 8090541, 5577022, 940947, 96...  \n",
       "1  [5569230, 8090521, 8090537, 916122, 1106523, 1...  "
      ]
     },
     "execution_count": 263,
     "metadata": {},
     "output_type": "execute_result"
    }
   ],
   "source": [
    "result.head(2)"
   ]
  },
  {
   "cell_type": "code",
   "execution_count": 264,
   "id": "ce98b33c",
   "metadata": {},
   "outputs": [
    {
     "data": {
      "text/plain": [
       "[('cosine_recs', 0.30627002288329475),\n",
       " ('als_recs', 0.28320366132723),\n",
       " ('own_recs', 0.23716247139587854)]"
      ]
     },
     "execution_count": 264,
     "metadata": {},
     "output_type": "execute_result"
    }
   ],
   "source": [
    "sorted(calc_precision(result, 5), key=lambda x: x[1], reverse=True)"
   ]
  },
  {
   "cell_type": "markdown",
   "id": "858af6c5",
   "metadata": {},
   "source": [
    "Методами библиотеки Implicit лучшие результаты показывает алгоритм косинусной близости. \n",
    "Но так как мы будем использовать 2-х уровневую модель посмотрим на результаты по оценке recall_at_k"
   ]
  },
  {
   "cell_type": "code",
   "execution_count": 265,
   "id": "88d03f12",
   "metadata": {},
   "outputs": [
    {
     "data": {
      "text/plain": [
       "[('own_recs', 0.11558733627498949),\n",
       " ('cosine_recs', 0.1068878863729549),\n",
       " ('als_recs', 0.10359746998162882)]"
      ]
     },
     "execution_count": 265,
     "metadata": {},
     "output_type": "execute_result"
    }
   ],
   "source": [
    "sorted(calc_recall(result, 50), key=lambda x: x[1], reverse=True)"
   ]
  },
  {
   "cell_type": "markdown",
   "id": "1aa000e5",
   "metadata": {},
   "source": [
    "Здесь лучшим оказался метод на основе прошлых покупок пользователя (Был применен k=2, т.о. нельзя сказать, что мы рекомендовали абсолютно тоже, что пользователь уже покупал.)\n"
   ]
  },
  {
   "cell_type": "markdown",
   "id": "41212ca5",
   "metadata": {},
   "source": [
    "### Этап 2 обучение модели 2-го уровня для отбора кандидатов."
   ]
  },
  {
   "cell_type": "markdown",
   "id": "6f08aaa2",
   "metadata": {},
   "source": [
    "Напишем функцию для формирования датасета для модели второго уровня. На вход будет приниматься валидационный и тренировочный датасеты, можно указавать параметр target(для обучения или для теста)"
   ]
  },
  {
   "cell_type": "code",
   "execution_count": 273,
   "id": "222ad085",
   "metadata": {},
   "outputs": [],
   "source": [
    "def level_2_data(user_data, data_train, N=30, target=True, item_features=item_features, user_features=user_features):\n",
    "            \n",
    "    def pref_department(user):\n",
    "        a1 = np.zeros(len(dl))\n",
    "        for el in cat_count.loc[user, ('department')].items():\n",
    "            for item in el[1]:\n",
    "                a1[dl.index(item)] += 1\n",
    "        ind = np.argpartition(a1, -5)[-5:]\n",
    "        \n",
    "        return [dl[el] for el in ind[np.argsort(a1[ind])][::-1]]\n",
    "    \n",
    "    # Формируем список пользователй\n",
    "    data_train_2 = pd.DataFrame(user_data['user_id'].unique())\n",
    "    data_train_2.columns = ['user_id']\n",
    "    # Фильтруем\n",
    "    train_users = data_train['user_id'].unique()\n",
    "    data_train_2 = data_train_2[(data_train_2['user_id'].isin(train_users))]\n",
    "    data_train_2.reset_index(drop=True, inplace=True)\n",
    "    # Формируем рекомендации\n",
    "    data_train_2['recs'] = data_train_2['user_id'].apply(lambda x: recommender.get_own_recommendations(x, N))\n",
    "    # Превращаем датасет с рекомендациями в датасет с данными для второй модели\n",
    "    s = data_train_2.apply(lambda x: pd.Series(x['recs']), axis=1).stack().reset_index(level=1, drop=True)\n",
    "    s.name = 'item_id'\n",
    "    data_train_2 = data_train_2.drop('recs', axis=1).join(s)\n",
    "    \n",
    "    # Если создаем обучающий датасет\n",
    "    if target:\n",
    "        # Сначала помечаем все рекомендации 1\n",
    "        data_train_2['flag'] = 1\n",
    "        # копируем в обучающий датасет для модели 2-го уровня колонки user_id и item_id и 1-го валидационного датасета.\n",
    "        user_lvl_2 = user_data[['user_id', 'item_id']].copy()\n",
    "        # удаляем дубликаты, те товары которые покупались неоднократно\n",
    "        user_lvl_2 = user_lvl_2.drop_duplicates()\n",
    "        user_lvl_2['target'] = 1  # тут только покупки \n",
    "        # объединяем датасет с рекомендациями и реальными покупками, те товары, которые присутствуют в обоих, получают целевой признак.\n",
    "        data_train_2 = data_train_2.merge(user_lvl_2, on=['user_id', 'item_id'], how='left')\n",
    "        # Остальные поля признака заполняем 0.\n",
    "        data_train_2['target'].fillna(0, inplace=True)\n",
    "        data_train_2.drop('flag', axis=1, inplace=True)\n",
    "    \n",
    "    # Объединяем с датасетами признаки товаров и признаки пользователй\n",
    "    data_train_2 = data_train_2.merge(item_features, on='item_id', how='left')\n",
    "    data_train_2 = data_train_2.merge(user_features, on='user_id', how='left')\n",
    "    \n",
    "#     p = data_train.loc[:, ('sales_value')] / np.maximum(data_train.loc[:, ('quantity')], 1)\n",
    "#     p.name = 'price'\n",
    "#     data_train = data_train.join(p)\n",
    "    data_train = data_train.merge(item_features, left_on = 'item_id', right_on = 'item_id', how='left')\n",
    "    \n",
    "    \"\"\"Добавляем новые признаки\"\"\"\n",
    "    # Признак: цена товара\n",
    "    price = data_train.groupby('item_id')['price'].median()\n",
    "    # data_train_2['price'] = data_train_2['item_id'].apply(lambda x: price.loc[x])\n",
    "    price.name = 'price'\n",
    "    data_train_2 = data_train_2.merge(price, how='left', on='item_id')\n",
    "    \n",
    "    \n",
    "    # Признак: сумма среднего чека\n",
    "\n",
    "    check = data_train.groupby('user_id')['sales_value'].sum() /  data_train.groupby('user_id')['basket_id'].nunique()\n",
    "    check.name = 'mean_check'\n",
    "    data_train_2.merge(check, how='left', on='user_id')\n",
    "    \n",
    "    # Признак: количество покупок в неделю\n",
    "    weeks_quanty = round(data_train['day'].max() / 7, ndigits=-1)\n",
    "    checks_per_week = data_train.groupby('user_id')['basket_id'].nunique() / weeks_quanty\n",
    "    checks_per_week.name = 'checks_per_week'\n",
    "    data_train_2 = data_train_2.merge(checks_per_week, how='left', on='user_id')\n",
    "    \n",
    "    def calc_week_count(user, department, q=weeks_quanty):\n",
    "        if department in cat_count.loc[user].index:\n",
    "            return cat_count.loc[user, department][0] / q\n",
    "        else:\n",
    "            return 0\n",
    "    \n",
    "    # Количество покупок товаров одной категории в чеке на каждого пользователя\n",
    "    cat_count = data_train.groupby(['user_id', 'department']).agg({'item_id': 'count'})\n",
    "    data_train_2['cat_per_week'] = data_train_2.apply(lambda x: calc_week_count(x.user_id, x.department), axis=1)\n",
    "    \n",
    "    # Признак: среднее количество покупок категорий товаров на пользователя в неделю. Возможно есть смысл посчитать на чек.\n",
    "    q_user = data_train['user_id'].nunique() # общее количество пользователей\n",
    "    # группировка купленных товаров по отделам\n",
    "    mean_cat_per_week = (data_train.groupby('department')['item_id'].count() / q_user) / weeks_quanty \n",
    "    data_train_2['mean_cat_per_week'] = data_train_2['department'].apply(lambda x: mean_cat_per_week[x])\n",
    "    \n",
    "    # Признак: отношение покупок отдельным клиентом категорий товаров к среднему количеству покупок всеми пользователями\n",
    "    # в неделю.\n",
    "    data_train_2['user_vs_mean'] = data_train_2['cat_per_week'] / data_train_2['mean_cat_per_week']\n",
    "    \n",
    "    # кол-во магазинов, в которых продавался товар\n",
    "    store = data_train.groupby(['item_id'])['store_id'].nunique().reset_index()\n",
    "    store.columns = ['item_id', 'n_stores']\n",
    "    store.name = 'n_stores'\n",
    "    data_train_2 = data_train_2.merge(store, how='left', on='item_id')\n",
    "    \n",
    "    # Признак: средняя цена товара по каждой категории.\n",
    "    mean_price = data_train.groupby('department').agg({'price': 'mean'})\n",
    "    data_train_2['mean_price'] = data_train_2['department'].apply(lambda x: mean_price.loc[x][0])\n",
    "        \n",
    "    return data_train_2"
   ]
  },
  {
   "cell_type": "code",
   "execution_count": 328,
   "id": "1f408a07",
   "metadata": {},
   "outputs": [
    {
     "name": "stdout",
     "output_type": "stream",
     "text": [
      "CPU times: total: 1min 22s\n",
      "Wall time: 1min 23s\n"
     ]
    },
    {
     "data": {
      "text/html": [
       "<div>\n",
       "<style scoped>\n",
       "    .dataframe tbody tr th:only-of-type {\n",
       "        vertical-align: middle;\n",
       "    }\n",
       "\n",
       "    .dataframe tbody tr th {\n",
       "        vertical-align: top;\n",
       "    }\n",
       "\n",
       "    .dataframe thead th {\n",
       "        text-align: right;\n",
       "    }\n",
       "</style>\n",
       "<table border=\"1\" class=\"dataframe\">\n",
       "  <thead>\n",
       "    <tr style=\"text-align: right;\">\n",
       "      <th></th>\n",
       "      <th>user_id</th>\n",
       "      <th>item_id</th>\n",
       "      <th>target</th>\n",
       "      <th>manufacturer</th>\n",
       "      <th>department</th>\n",
       "      <th>brand</th>\n",
       "      <th>commodity_desc</th>\n",
       "      <th>sub_commodity_desc</th>\n",
       "      <th>curr_size_of_product</th>\n",
       "      <th>age_desc</th>\n",
       "      <th>...</th>\n",
       "      <th>hh_comp_desc</th>\n",
       "      <th>household_size_desc</th>\n",
       "      <th>kid_category_desc</th>\n",
       "      <th>price</th>\n",
       "      <th>checks_per_week</th>\n",
       "      <th>cat_per_week</th>\n",
       "      <th>mean_cat_per_week</th>\n",
       "      <th>user_vs_mean</th>\n",
       "      <th>n_stores</th>\n",
       "      <th>mean_price</th>\n",
       "    </tr>\n",
       "  </thead>\n",
       "  <tbody>\n",
       "    <tr>\n",
       "      <th>0</th>\n",
       "      <td>84</td>\n",
       "      <td>1004906</td>\n",
       "      <td>0.0</td>\n",
       "      <td>69</td>\n",
       "      <td>PRODUCE</td>\n",
       "      <td>Private</td>\n",
       "      <td>POTATOES</td>\n",
       "      <td>POTATOES RUSSET (BULK&amp;BAG)</td>\n",
       "      <td>5 LB</td>\n",
       "      <td>NaN</td>\n",
       "      <td>...</td>\n",
       "      <td>NaN</td>\n",
       "      <td>NaN</td>\n",
       "      <td>NaN</td>\n",
       "      <td>2.69</td>\n",
       "      <td>0.333333</td>\n",
       "      <td>0.033333</td>\n",
       "      <td>0.60013</td>\n",
       "      <td>0.055544</td>\n",
       "      <td>111</td>\n",
       "      <td>2.303313</td>\n",
       "    </tr>\n",
       "    <tr>\n",
       "      <th>1</th>\n",
       "      <td>84</td>\n",
       "      <td>961554</td>\n",
       "      <td>0.0</td>\n",
       "      <td>69</td>\n",
       "      <td>PRODUCE</td>\n",
       "      <td>Private</td>\n",
       "      <td>CARROTS</td>\n",
       "      <td>CARROTS MINI PEELED</td>\n",
       "      <td>1 LB</td>\n",
       "      <td>NaN</td>\n",
       "      <td>...</td>\n",
       "      <td>NaN</td>\n",
       "      <td>NaN</td>\n",
       "      <td>NaN</td>\n",
       "      <td>1.69</td>\n",
       "      <td>0.333333</td>\n",
       "      <td>0.033333</td>\n",
       "      <td>0.60013</td>\n",
       "      <td>0.055544</td>\n",
       "      <td>112</td>\n",
       "      <td>2.303313</td>\n",
       "    </tr>\n",
       "  </tbody>\n",
       "</table>\n",
       "<p>2 rows × 23 columns</p>\n",
       "</div>"
      ],
      "text/plain": [
       "   user_id  item_id  target  manufacturer department    brand commodity_desc  \\\n",
       "0       84  1004906     0.0            69    PRODUCE  Private       POTATOES   \n",
       "1       84   961554     0.0            69    PRODUCE  Private        CARROTS   \n",
       "\n",
       "           sub_commodity_desc curr_size_of_product age_desc  ... hh_comp_desc  \\\n",
       "0  POTATOES RUSSET (BULK&BAG)                 5 LB      NaN  ...          NaN   \n",
       "1         CARROTS MINI PEELED                 1 LB      NaN  ...          NaN   \n",
       "\n",
       "  household_size_desc kid_category_desc price checks_per_week cat_per_week  \\\n",
       "0                 NaN               NaN  2.69        0.333333     0.033333   \n",
       "1                 NaN               NaN  1.69        0.333333     0.033333   \n",
       "\n",
       "   mean_cat_per_week  user_vs_mean  n_stores  mean_price  \n",
       "0            0.60013      0.055544       111    2.303313  \n",
       "1            0.60013      0.055544       112    2.303313  \n",
       "\n",
       "[2 rows x 23 columns]"
      ]
     },
     "execution_count": 328,
     "metadata": {},
     "output_type": "execute_result"
    }
   ],
   "source": [
    "%%time\n",
    "data_train_2 = level_2_data(data_val, data_train, N=30)\n",
    "data_train_2.head(2)"
   ]
  },
  {
   "cell_type": "code",
   "execution_count": 329,
   "id": "43925bc6",
   "metadata": {},
   "outputs": [
    {
     "data": {
      "text/plain": [
       "0.18108314263920672"
      ]
     },
     "execution_count": 329,
     "metadata": {},
     "output_type": "execute_result"
    }
   ],
   "source": [
    "# Доля целевого признака.\n",
    "data_train_2['target'].mean()"
   ]
  },
  {
   "cell_type": "code",
   "execution_count": 330,
   "id": "3a026af8",
   "metadata": {},
   "outputs": [],
   "source": [
    "# Выделим целевой признак\n",
    "# X_train = data_train_2.drop(columns=['target', 'kid_category_desc', 'department', 'homeowner_desc', 'brand', 'predict'], axis=1)\n",
    "X_train = data_train_2.drop(columns=['target', 'kid_category_desc', 'department', 'homeowner_desc', 'brand'], axis=1)\n",
    "y_train = data_train_2['target']"
   ]
  },
  {
   "cell_type": "code",
   "execution_count": 331,
   "id": "8d9e8923",
   "metadata": {},
   "outputs": [
    {
     "data": {
      "text/plain": [
       "['manufacturer',\n",
       " 'commodity_desc',\n",
       " 'sub_commodity_desc',\n",
       " 'curr_size_of_product',\n",
       " 'age_desc',\n",
       " 'marital_status_code',\n",
       " 'income_desc',\n",
       " 'hh_comp_desc',\n",
       " 'household_size_desc']"
      ]
     },
     "execution_count": 331,
     "metadata": {},
     "output_type": "execute_result"
    }
   ],
   "source": [
    "# Укажем категориальные переменные.\n",
    "cat_feats = X_train.columns[2:11].tolist()\n",
    "X_train[cat_feats] = X_train[cat_feats].astype('category')\n",
    "cat_feats"
   ]
  },
  {
   "cell_type": "code",
   "execution_count": 277,
   "id": "a411ac6d",
   "metadata": {},
   "outputs": [
    {
     "data": {
      "text/html": [
       "<div>\n",
       "<style scoped>\n",
       "    .dataframe tbody tr th:only-of-type {\n",
       "        vertical-align: middle;\n",
       "    }\n",
       "\n",
       "    .dataframe tbody tr th {\n",
       "        vertical-align: top;\n",
       "    }\n",
       "\n",
       "    .dataframe thead th {\n",
       "        text-align: right;\n",
       "    }\n",
       "</style>\n",
       "<table border=\"1\" class=\"dataframe\">\n",
       "  <thead>\n",
       "    <tr style=\"text-align: right;\">\n",
       "      <th></th>\n",
       "      <th>user_id</th>\n",
       "      <th>item_id</th>\n",
       "      <th>manufacturer</th>\n",
       "      <th>commodity_desc</th>\n",
       "      <th>sub_commodity_desc</th>\n",
       "      <th>curr_size_of_product</th>\n",
       "      <th>age_desc</th>\n",
       "      <th>marital_status_code</th>\n",
       "      <th>income_desc</th>\n",
       "      <th>hh_comp_desc</th>\n",
       "      <th>household_size_desc</th>\n",
       "      <th>price</th>\n",
       "      <th>checks_per_week</th>\n",
       "      <th>cat_per_week</th>\n",
       "      <th>mean_cat_per_week</th>\n",
       "      <th>user_vs_mean</th>\n",
       "      <th>store_id</th>\n",
       "      <th>mean_price</th>\n",
       "    </tr>\n",
       "  </thead>\n",
       "  <tbody>\n",
       "    <tr>\n",
       "      <th>0</th>\n",
       "      <td>84</td>\n",
       "      <td>1004906</td>\n",
       "      <td>69</td>\n",
       "      <td>POTATOES</td>\n",
       "      <td>POTATOES RUSSET (BULK&amp;BAG)</td>\n",
       "      <td>5 LB</td>\n",
       "      <td>NaN</td>\n",
       "      <td>NaN</td>\n",
       "      <td>NaN</td>\n",
       "      <td>NaN</td>\n",
       "      <td>NaN</td>\n",
       "      <td>2.69</td>\n",
       "      <td>0.333333</td>\n",
       "      <td>0.033333</td>\n",
       "      <td>0.60013</td>\n",
       "      <td>0.055544</td>\n",
       "      <td>111</td>\n",
       "      <td>2.303313</td>\n",
       "    </tr>\n",
       "    <tr>\n",
       "      <th>1</th>\n",
       "      <td>84</td>\n",
       "      <td>961554</td>\n",
       "      <td>69</td>\n",
       "      <td>CARROTS</td>\n",
       "      <td>CARROTS MINI PEELED</td>\n",
       "      <td>1 LB</td>\n",
       "      <td>NaN</td>\n",
       "      <td>NaN</td>\n",
       "      <td>NaN</td>\n",
       "      <td>NaN</td>\n",
       "      <td>NaN</td>\n",
       "      <td>1.69</td>\n",
       "      <td>0.333333</td>\n",
       "      <td>0.033333</td>\n",
       "      <td>0.60013</td>\n",
       "      <td>0.055544</td>\n",
       "      <td>112</td>\n",
       "      <td>2.303313</td>\n",
       "    </tr>\n",
       "  </tbody>\n",
       "</table>\n",
       "</div>"
      ],
      "text/plain": [
       "   user_id  item_id manufacturer commodity_desc          sub_commodity_desc  \\\n",
       "0       84  1004906           69       POTATOES  POTATOES RUSSET (BULK&BAG)   \n",
       "1       84   961554           69        CARROTS         CARROTS MINI PEELED   \n",
       "\n",
       "  curr_size_of_product age_desc marital_status_code income_desc hh_comp_desc  \\\n",
       "0                 5 LB      NaN                 NaN         NaN          NaN   \n",
       "1                 1 LB      NaN                 NaN         NaN          NaN   \n",
       "\n",
       "  household_size_desc  price  checks_per_week  cat_per_week  \\\n",
       "0                 NaN   2.69         0.333333      0.033333   \n",
       "1                 NaN   1.69         0.333333      0.033333   \n",
       "\n",
       "   mean_cat_per_week  user_vs_mean  store_id  mean_price  \n",
       "0            0.60013      0.055544       111    2.303313  \n",
       "1            0.60013      0.055544       112    2.303313  "
      ]
     },
     "execution_count": 277,
     "metadata": {},
     "output_type": "execute_result"
    }
   ],
   "source": [
    "X_train.head(2)"
   ]
  },
  {
   "cell_type": "code",
   "execution_count": 332,
   "id": "b14bb841",
   "metadata": {},
   "outputs": [
    {
     "name": "stderr",
     "output_type": "stream",
     "text": [
      "C:\\ProgramData\\Anaconda3\\lib\\site-packages\\lightgbm\\basic.py:1245: UserWarning: categorical_column in param dict is overridden.\n",
      "  _log_warning('{} in param dict is overridden.'.format(cat_alias))\n"
     ]
    }
   ],
   "source": [
    "# Обучим модель.\n",
    "lgb = LGBMClassifier(objective='binary', max_depth=12, n_estimators=700, learning_rate=0.15, reg_alpha=0.0, categorical_column=cat_feats)\n",
    "lgb.fit(X_train, y_train)\n",
    "# class_weight='balanced', min_child_samples=5 \n",
    "train_preds = lgb.predict(X_train)"
   ]
  },
  {
   "cell_type": "code",
   "execution_count": 333,
   "id": "82fd95c9",
   "metadata": {},
   "outputs": [
    {
     "name": "stdout",
     "output_type": "stream",
     "text": [
      "              precision    recall  f1-score   support\n",
      "\n",
      "         0.0       0.91      0.99      0.95     53680\n",
      "         1.0       0.96      0.56      0.71     11870\n",
      "\n",
      "    accuracy                           0.92     65550\n",
      "   macro avg       0.93      0.78      0.83     65550\n",
      "weighted avg       0.92      0.92      0.91     65550\n",
      "\n"
     ]
    }
   ],
   "source": [
    "# Посмотрим на метрики.\n",
    "print(classification_report(y_train, train_preds))"
   ]
  },
  {
   "cell_type": "code",
   "execution_count": 293,
   "id": "51ce0c01",
   "metadata": {},
   "outputs": [],
   "source": [
    "# data_train_2.drop('predict', axis=1, inplace = True)\n",
    "# Получим вероятности классов\n",
    "target_pred = pd.Series(lgb.predict_proba(X_train)[:, 1])\n",
    "# Добавим эти данные в наш датасет, чтобы получить рекомендации\n",
    "target_pred.name = 'predict'\n",
    "data_train_2 = data_train_2.join(target_pred)"
   ]
  },
  {
   "cell_type": "markdown",
   "id": "2e866b13",
   "metadata": {},
   "source": [
    "Функция для формирования итоговых предсказаний на основе лучшей вероятности целевого признака."
   ]
  },
  {
   "cell_type": "code",
   "execution_count": 281,
   "id": "63d08b93",
   "metadata": {},
   "outputs": [],
   "source": [
    "def get_lgb_recommendation(user, data):\n",
    "    recs, index = [], 0\n",
    "    # получаем pd.Series индексы + значения предсказаний.\n",
    "    predict = data.loc[(data['user_id'] == user, 'predict')]\n",
    "    # сортируем значения получаем топ индексов предсказаний\n",
    "    predict_index = predict.sort_values(ascending=False).index.tolist()[:20]\n",
    "    if predict_index:\n",
    "\n",
    "        return data.iloc[predict_index[:5]].item_id.tolist()\n",
    "    else:\n",
    "        recs = recommender.get_als_recommendations(user, 5)\n",
    "        return recs"
   ]
  },
  {
   "cell_type": "code",
   "execution_count": 294,
   "id": "70087d47",
   "metadata": {},
   "outputs": [
    {
     "data": {
      "text/plain": [
       "0.5904805491990835"
      ]
     },
     "execution_count": 294,
     "metadata": {},
     "output_type": "execute_result"
    }
   ],
   "source": [
    "result['lgb'] = result['user_id'].apply(lambda x: get_lgb_recommendation(x, data_train_2))\n",
    "result.apply(lambda x: precision_at_k(x['lgb'], x['actual'], k=5), axis=1).mean()"
   ]
  },
  {
   "cell_type": "markdown",
   "id": "2cbe8cdb",
   "metadata": {},
   "source": [
    "#### Получение предсказаний для тестовой выборки"
   ]
  },
  {
   "cell_type": "code",
   "execution_count": 283,
   "id": "18191209",
   "metadata": {},
   "outputs": [
    {
     "name": "stdout",
     "output_type": "stream",
     "text": [
      "Количество пользователей уменьшено с 1781 до 1781\n"
     ]
    }
   ],
   "source": [
    "'''Уберем из тестовых данных тех пользователей которых нет в обученной модели.\n",
    "Для них можно:\n",
    "- сформировать рекомендации на основе модуля MainRecommender если они есть в обучающем датасете;\n",
    "- предложить топ-популярных товаров если это новые пользователи.'''\n",
    "old = data_test['user_id'].nunique()\n",
    "users = data_train_2['user_id'].unique()\n",
    "data_test = data_test.loc[data_test['user_id'].isin(users)]\n",
    "new = data_test['user_id'].nunique()\n",
    "print(f'Количество пользователей уменьшено с {old} до {new}')"
   ]
  },
  {
   "cell_type": "code",
   "execution_count": 284,
   "id": "87ddbf79",
   "metadata": {},
   "outputs": [
    {
     "data": {
      "text/html": [
       "<div>\n",
       "<style scoped>\n",
       "    .dataframe tbody tr th:only-of-type {\n",
       "        vertical-align: middle;\n",
       "    }\n",
       "\n",
       "    .dataframe tbody tr th {\n",
       "        vertical-align: top;\n",
       "    }\n",
       "\n",
       "    .dataframe thead th {\n",
       "        text-align: right;\n",
       "    }\n",
       "</style>\n",
       "<table border=\"1\" class=\"dataframe\">\n",
       "  <thead>\n",
       "    <tr style=\"text-align: right;\">\n",
       "      <th></th>\n",
       "      <th>user_id</th>\n",
       "      <th>actual</th>\n",
       "    </tr>\n",
       "  </thead>\n",
       "  <tbody>\n",
       "    <tr>\n",
       "      <th>0</th>\n",
       "      <td>1</td>\n",
       "      <td>[880007, 883616, 931136, 938004, 940947, 94726...</td>\n",
       "    </tr>\n",
       "    <tr>\n",
       "      <th>1</th>\n",
       "      <td>2</td>\n",
       "      <td>[820165, 820291, 826784, 826835, 829009, 85784...</td>\n",
       "    </tr>\n",
       "  </tbody>\n",
       "</table>\n",
       "</div>"
      ],
      "text/plain": [
       "   user_id                                             actual\n",
       "0        1  [880007, 883616, 931136, 938004, 940947, 94726...\n",
       "1        2  [820165, 820291, 826784, 826835, 829009, 85784..."
      ]
     },
     "execution_count": 284,
     "metadata": {},
     "output_type": "execute_result"
    }
   ],
   "source": [
    "# Сформируем данные для 2ой валидации.\n",
    "result_2 = data_test.groupby('user_id')['item_id'].unique().reset_index()\n",
    "result_2.columns = ['user_id', 'actual']\n",
    "\n",
    "result_2.head(2)"
   ]
  },
  {
   "cell_type": "code",
   "execution_count": 334,
   "id": "bb9d1b41",
   "metadata": {},
   "outputs": [
    {
     "name": "stdout",
     "output_type": "stream",
     "text": [
      "CPU times: total: 1min 8s\n",
      "Wall time: 1min 10s\n"
     ]
    },
    {
     "data": {
      "text/html": [
       "<div>\n",
       "<style scoped>\n",
       "    .dataframe tbody tr th:only-of-type {\n",
       "        vertical-align: middle;\n",
       "    }\n",
       "\n",
       "    .dataframe tbody tr th {\n",
       "        vertical-align: top;\n",
       "    }\n",
       "\n",
       "    .dataframe thead th {\n",
       "        text-align: right;\n",
       "    }\n",
       "</style>\n",
       "<table border=\"1\" class=\"dataframe\">\n",
       "  <thead>\n",
       "    <tr style=\"text-align: right;\">\n",
       "      <th></th>\n",
       "      <th>user_id</th>\n",
       "      <th>item_id</th>\n",
       "      <th>manufacturer</th>\n",
       "      <th>department</th>\n",
       "      <th>brand</th>\n",
       "      <th>commodity_desc</th>\n",
       "      <th>sub_commodity_desc</th>\n",
       "      <th>curr_size_of_product</th>\n",
       "      <th>age_desc</th>\n",
       "      <th>marital_status_code</th>\n",
       "      <th>...</th>\n",
       "      <th>hh_comp_desc</th>\n",
       "      <th>household_size_desc</th>\n",
       "      <th>kid_category_desc</th>\n",
       "      <th>price</th>\n",
       "      <th>checks_per_week</th>\n",
       "      <th>cat_per_week</th>\n",
       "      <th>mean_cat_per_week</th>\n",
       "      <th>user_vs_mean</th>\n",
       "      <th>n_stores</th>\n",
       "      <th>mean_price</th>\n",
       "    </tr>\n",
       "  </thead>\n",
       "  <tbody>\n",
       "    <tr>\n",
       "      <th>0</th>\n",
       "      <td>1340</td>\n",
       "      <td>961554</td>\n",
       "      <td>69</td>\n",
       "      <td>PRODUCE</td>\n",
       "      <td>Private</td>\n",
       "      <td>CARROTS</td>\n",
       "      <td>CARROTS MINI PEELED</td>\n",
       "      <td>1 LB</td>\n",
       "      <td>NaN</td>\n",
       "      <td>NaN</td>\n",
       "      <td>...</td>\n",
       "      <td>NaN</td>\n",
       "      <td>NaN</td>\n",
       "      <td>NaN</td>\n",
       "      <td>1.69</td>\n",
       "      <td>0.244444</td>\n",
       "      <td>0.077778</td>\n",
       "      <td>0.600130</td>\n",
       "      <td>0.129602</td>\n",
       "      <td>112</td>\n",
       "      <td>2.303313</td>\n",
       "    </tr>\n",
       "    <tr>\n",
       "      <th>1</th>\n",
       "      <td>1340</td>\n",
       "      <td>916122</td>\n",
       "      <td>4314</td>\n",
       "      <td>MEAT</td>\n",
       "      <td>National</td>\n",
       "      <td>CHICKEN</td>\n",
       "      <td>CHICKEN BREAST BONELESS</td>\n",
       "      <td></td>\n",
       "      <td>NaN</td>\n",
       "      <td>NaN</td>\n",
       "      <td>...</td>\n",
       "      <td>NaN</td>\n",
       "      <td>NaN</td>\n",
       "      <td>NaN</td>\n",
       "      <td>3.76</td>\n",
       "      <td>0.244444</td>\n",
       "      <td>0.077778</td>\n",
       "      <td>0.264905</td>\n",
       "      <td>0.293606</td>\n",
       "      <td>112</td>\n",
       "      <td>4.528548</td>\n",
       "    </tr>\n",
       "  </tbody>\n",
       "</table>\n",
       "<p>2 rows × 22 columns</p>\n",
       "</div>"
      ],
      "text/plain": [
       "   user_id  item_id  manufacturer department     brand commodity_desc  \\\n",
       "0     1340   961554            69    PRODUCE   Private        CARROTS   \n",
       "1     1340   916122          4314       MEAT  National        CHICKEN   \n",
       "\n",
       "        sub_commodity_desc curr_size_of_product age_desc marital_status_code  \\\n",
       "0      CARROTS MINI PEELED                 1 LB      NaN                 NaN   \n",
       "1  CHICKEN BREAST BONELESS                           NaN                 NaN   \n",
       "\n",
       "   ... hh_comp_desc household_size_desc kid_category_desc price  \\\n",
       "0  ...          NaN                 NaN               NaN  1.69   \n",
       "1  ...          NaN                 NaN               NaN  3.76   \n",
       "\n",
       "  checks_per_week  cat_per_week  mean_cat_per_week  user_vs_mean  n_stores  \\\n",
       "0        0.244444      0.077778           0.600130      0.129602       112   \n",
       "1        0.244444      0.077778           0.264905      0.293606       112   \n",
       "\n",
       "   mean_price  \n",
       "0    2.303313  \n",
       "1    4.528548  \n",
       "\n",
       "[2 rows x 22 columns]"
      ]
     },
     "execution_count": 334,
     "metadata": {},
     "output_type": "execute_result"
    }
   ],
   "source": [
    "%%time\n",
    "data_test_2 = level_2_data(data_test, data_train, N=30, target=False)\n",
    "data_test_2.head(2)"
   ]
  },
  {
   "cell_type": "code",
   "execution_count": 236,
   "id": "f1175b0b",
   "metadata": {},
   "outputs": [
    {
     "data": {
      "text/plain": [
       "Index(['user_id', 'item_id', 'manufacturer', 'commodity_desc',\n",
       "       'sub_commodity_desc', 'curr_size_of_product', 'age_desc',\n",
       "       'marital_status_code', 'income_desc', 'hh_comp_desc',\n",
       "       'household_size_desc', 'price', 'checks_per_week', 'cat_per_week',\n",
       "       'mean_cat_per_week', 'user_vs_mean', 'mean_price'],\n",
       "      dtype='object')"
      ]
     },
     "execution_count": 236,
     "metadata": {},
     "output_type": "execute_result"
    }
   ],
   "source": [
    "X_train.columns"
   ]
  },
  {
   "cell_type": "code",
   "execution_count": 335,
   "id": "cbddf0fd",
   "metadata": {},
   "outputs": [
    {
     "data": {
      "text/html": [
       "<div>\n",
       "<style scoped>\n",
       "    .dataframe tbody tr th:only-of-type {\n",
       "        vertical-align: middle;\n",
       "    }\n",
       "\n",
       "    .dataframe tbody tr th {\n",
       "        vertical-align: top;\n",
       "    }\n",
       "\n",
       "    .dataframe thead th {\n",
       "        text-align: right;\n",
       "    }\n",
       "</style>\n",
       "<table border=\"1\" class=\"dataframe\">\n",
       "  <thead>\n",
       "    <tr style=\"text-align: right;\">\n",
       "      <th></th>\n",
       "      <th>manufacturer</th>\n",
       "      <th>commodity_desc</th>\n",
       "      <th>sub_commodity_desc</th>\n",
       "      <th>curr_size_of_product</th>\n",
       "      <th>age_desc</th>\n",
       "      <th>marital_status_code</th>\n",
       "      <th>income_desc</th>\n",
       "      <th>hh_comp_desc</th>\n",
       "      <th>household_size_desc</th>\n",
       "    </tr>\n",
       "  </thead>\n",
       "  <tbody>\n",
       "    <tr>\n",
       "      <th>0</th>\n",
       "      <td>69</td>\n",
       "      <td>CARROTS</td>\n",
       "      <td>CARROTS MINI PEELED</td>\n",
       "      <td>1 LB</td>\n",
       "      <td>NaN</td>\n",
       "      <td>NaN</td>\n",
       "      <td>NaN</td>\n",
       "      <td>NaN</td>\n",
       "      <td>NaN</td>\n",
       "    </tr>\n",
       "    <tr>\n",
       "      <th>1</th>\n",
       "      <td>4314</td>\n",
       "      <td>CHICKEN</td>\n",
       "      <td>CHICKEN BREAST BONELESS</td>\n",
       "      <td></td>\n",
       "      <td>NaN</td>\n",
       "      <td>NaN</td>\n",
       "      <td>NaN</td>\n",
       "      <td>NaN</td>\n",
       "      <td>NaN</td>\n",
       "    </tr>\n",
       "    <tr>\n",
       "      <th>2</th>\n",
       "      <td>2852</td>\n",
       "      <td>BEEF</td>\n",
       "      <td>PRIMAL</td>\n",
       "      <td></td>\n",
       "      <td>NaN</td>\n",
       "      <td>NaN</td>\n",
       "      <td>NaN</td>\n",
       "      <td>NaN</td>\n",
       "      <td>NaN</td>\n",
       "    </tr>\n",
       "    <tr>\n",
       "      <th>3</th>\n",
       "      <td>2854</td>\n",
       "      <td>BEEF</td>\n",
       "      <td>PRIMAL</td>\n",
       "      <td></td>\n",
       "      <td>NaN</td>\n",
       "      <td>NaN</td>\n",
       "      <td>NaN</td>\n",
       "      <td>NaN</td>\n",
       "      <td>NaN</td>\n",
       "    </tr>\n",
       "    <tr>\n",
       "      <th>4</th>\n",
       "      <td>2</td>\n",
       "      <td>GRAPES</td>\n",
       "      <td>GRAPES WHITE</td>\n",
       "      <td>18 LB</td>\n",
       "      <td>NaN</td>\n",
       "      <td>NaN</td>\n",
       "      <td>NaN</td>\n",
       "      <td>NaN</td>\n",
       "      <td>NaN</td>\n",
       "    </tr>\n",
       "    <tr>\n",
       "      <th>...</th>\n",
       "      <td>...</td>\n",
       "      <td>...</td>\n",
       "      <td>...</td>\n",
       "      <td>...</td>\n",
       "      <td>...</td>\n",
       "      <td>...</td>\n",
       "      <td>...</td>\n",
       "      <td>...</td>\n",
       "      <td>...</td>\n",
       "    </tr>\n",
       "    <tr>\n",
       "      <th>53425</th>\n",
       "      <td>3726</td>\n",
       "      <td>DELI MEATS</td>\n",
       "      <td>MEAT:HAM BULK</td>\n",
       "      <td></td>\n",
       "      <td>NaN</td>\n",
       "      <td>NaN</td>\n",
       "      <td>NaN</td>\n",
       "      <td>NaN</td>\n",
       "      <td>NaN</td>\n",
       "    </tr>\n",
       "    <tr>\n",
       "      <th>53426</th>\n",
       "      <td>69</td>\n",
       "      <td>TOMATOES</td>\n",
       "      <td>TOMATOES VINE RIPE PKG</td>\n",
       "      <td>4 CT</td>\n",
       "      <td>NaN</td>\n",
       "      <td>NaN</td>\n",
       "      <td>NaN</td>\n",
       "      <td>NaN</td>\n",
       "      <td>NaN</td>\n",
       "    </tr>\n",
       "    <tr>\n",
       "      <th>53427</th>\n",
       "      <td>2</td>\n",
       "      <td>SALAD BAR</td>\n",
       "      <td>SALAD BAR FRESH FRUIT</td>\n",
       "      <td></td>\n",
       "      <td>NaN</td>\n",
       "      <td>NaN</td>\n",
       "      <td>NaN</td>\n",
       "      <td>NaN</td>\n",
       "      <td>NaN</td>\n",
       "    </tr>\n",
       "    <tr>\n",
       "      <th>53428</th>\n",
       "      <td>612</td>\n",
       "      <td>CANNED JUICES</td>\n",
       "      <td>CRANBERRY JUICE (50% AND UNDER</td>\n",
       "      <td>64 OZ</td>\n",
       "      <td>NaN</td>\n",
       "      <td>NaN</td>\n",
       "      <td>NaN</td>\n",
       "      <td>NaN</td>\n",
       "      <td>NaN</td>\n",
       "    </tr>\n",
       "    <tr>\n",
       "      <th>53429</th>\n",
       "      <td>69</td>\n",
       "      <td>BEEF</td>\n",
       "      <td>LEAN</td>\n",
       "      <td>5 LB</td>\n",
       "      <td>NaN</td>\n",
       "      <td>NaN</td>\n",
       "      <td>NaN</td>\n",
       "      <td>NaN</td>\n",
       "      <td>NaN</td>\n",
       "    </tr>\n",
       "  </tbody>\n",
       "</table>\n",
       "<p>53430 rows × 9 columns</p>\n",
       "</div>"
      ],
      "text/plain": [
       "      manufacturer commodity_desc              sub_commodity_desc  \\\n",
       "0               69        CARROTS             CARROTS MINI PEELED   \n",
       "1             4314        CHICKEN         CHICKEN BREAST BONELESS   \n",
       "2             2852           BEEF                          PRIMAL   \n",
       "3             2854           BEEF                          PRIMAL   \n",
       "4                2         GRAPES                    GRAPES WHITE   \n",
       "...            ...            ...                             ...   \n",
       "53425         3726     DELI MEATS                   MEAT:HAM BULK   \n",
       "53426           69       TOMATOES          TOMATOES VINE RIPE PKG   \n",
       "53427            2      SALAD BAR           SALAD BAR FRESH FRUIT   \n",
       "53428          612  CANNED JUICES  CRANBERRY JUICE (50% AND UNDER   \n",
       "53429           69           BEEF                            LEAN   \n",
       "\n",
       "      curr_size_of_product age_desc marital_status_code income_desc  \\\n",
       "0                     1 LB      NaN                 NaN         NaN   \n",
       "1                               NaN                 NaN         NaN   \n",
       "2                               NaN                 NaN         NaN   \n",
       "3                               NaN                 NaN         NaN   \n",
       "4                    18 LB      NaN                 NaN         NaN   \n",
       "...                    ...      ...                 ...         ...   \n",
       "53425                           NaN                 NaN         NaN   \n",
       "53426                 4 CT      NaN                 NaN         NaN   \n",
       "53427                           NaN                 NaN         NaN   \n",
       "53428                64 OZ      NaN                 NaN         NaN   \n",
       "53429                 5 LB      NaN                 NaN         NaN   \n",
       "\n",
       "      hh_comp_desc household_size_desc  \n",
       "0              NaN                 NaN  \n",
       "1              NaN                 NaN  \n",
       "2              NaN                 NaN  \n",
       "3              NaN                 NaN  \n",
       "4              NaN                 NaN  \n",
       "...            ...                 ...  \n",
       "53425          NaN                 NaN  \n",
       "53426          NaN                 NaN  \n",
       "53427          NaN                 NaN  \n",
       "53428          NaN                 NaN  \n",
       "53429          NaN                 NaN  \n",
       "\n",
       "[53430 rows x 9 columns]"
      ]
     },
     "execution_count": 335,
     "metadata": {},
     "output_type": "execute_result"
    }
   ],
   "source": [
    "X_test = data_test_2.drop(columns=['kid_category_desc', 'department', 'homeowner_desc', 'brand'], axis=1)\n",
    "X_test[cat_feats] = X_test[cat_feats].astype('category')"
   ]
  },
  {
   "cell_type": "code",
   "execution_count": 336,
   "id": "4561a35e",
   "metadata": {},
   "outputs": [],
   "source": [
    "# Получим вероятности классов\n",
    "target_pred = pd.Series(lgb.predict_proba(X_test)[:, 1])\n",
    "# Добавим эти данные в наш датасет, чтобы получить рекомендации\n",
    "target_pred.name = 'predict'\n",
    "data_test_2 = data_test_2.join(target_pred)"
   ]
  },
  {
   "cell_type": "code",
   "execution_count": 337,
   "id": "df2ebfde",
   "metadata": {},
   "outputs": [
    {
     "data": {
      "text/plain": [
       "0.26895002807411317"
      ]
     },
     "execution_count": 337,
     "metadata": {},
     "output_type": "execute_result"
    }
   ],
   "source": [
    "result_2['lgb'] = result_2['user_id'].apply(lambda x: get_lgb_recommendation(x, data_test_2))\n",
    "result_2.apply(lambda x: precision_at_k(x['lgb'], x['actual'], k=5), axis=1).mean()"
   ]
  },
  {
   "cell_type": "markdown",
   "id": "af20dec8",
   "metadata": {},
   "source": [
    "#### Для сравнения получим предсказания используя весь обучающий датасет."
   ]
  },
  {
   "cell_type": "code",
   "execution_count": 338,
   "id": "10db5908",
   "metadata": {},
   "outputs": [
    {
     "name": "stdout",
     "output_type": "stream",
     "text": [
      "Количество товаров уменьшено c - 89051 до 6000.\n"
     ]
    }
   ],
   "source": [
    "old = data['item_id'].nunique()\n",
    "data_for_test = prefilter_items(data, item_features, take_n_popular=6000)\n",
    "new = data_for_test['item_id'].nunique()\n",
    "print(f'Количество товаров уменьшено c - {old} до {new}.')"
   ]
  },
  {
   "cell_type": "code",
   "execution_count": 339,
   "id": "96226ad5",
   "metadata": {},
   "outputs": [
    {
     "data": {
      "application/vnd.jupyter.widget-view+json": {
       "model_id": "08c8f49eef07409fb1b6ffac9c339209",
       "version_major": 2,
       "version_minor": 0
      },
      "text/plain": [
       "  0%|          | 0/20 [00:00<?, ?it/s]"
      ]
     },
     "metadata": {},
     "output_type": "display_data"
    },
    {
     "data": {
      "application/vnd.jupyter.widget-view+json": {
       "model_id": "40ec531d450648eb8cdeebc7a96da4c8",
       "version_major": 2,
       "version_minor": 0
      },
      "text/plain": [
       "  0%|          | 0/6000 [00:00<?, ?it/s]"
      ]
     },
     "metadata": {},
     "output_type": "display_data"
    },
    {
     "name": "stderr",
     "output_type": "stream",
     "text": [
      "C:\\ProgramData\\Anaconda3\\lib\\site-packages\\implicit\\utils.py:138: ParameterWarning: Method expects CSR input, and was passed coo_matrix instead. Converting to CSR took 0.01600027084350586 seconds\n",
      "  warnings.warn(\n"
     ]
    },
    {
     "data": {
      "application/vnd.jupyter.widget-view+json": {
       "model_id": "ef916be30a6c4820839e4dc705818fa3",
       "version_major": 2,
       "version_minor": 0
      },
      "text/plain": [
       "  0%|          | 0/6000 [00:00<?, ?it/s]"
      ]
     },
     "metadata": {},
     "output_type": "display_data"
    }
   ],
   "source": [
    "recommender = MainRecommender(data_for_test, item_features)"
   ]
  },
  {
   "cell_type": "code",
   "execution_count": 340,
   "id": "856eada1",
   "metadata": {},
   "outputs": [
    {
     "data": {
      "text/html": [
       "<div>\n",
       "<style scoped>\n",
       "    .dataframe tbody tr th:only-of-type {\n",
       "        vertical-align: middle;\n",
       "    }\n",
       "\n",
       "    .dataframe tbody tr th {\n",
       "        vertical-align: top;\n",
       "    }\n",
       "\n",
       "    .dataframe thead th {\n",
       "        text-align: right;\n",
       "    }\n",
       "</style>\n",
       "<table border=\"1\" class=\"dataframe\">\n",
       "  <thead>\n",
       "    <tr style=\"text-align: right;\">\n",
       "      <th></th>\n",
       "      <th>user_id</th>\n",
       "      <th>actual</th>\n",
       "      <th>lgb</th>\n",
       "      <th>own_recs</th>\n",
       "      <th>als_recs</th>\n",
       "      <th>cosine_recs</th>\n",
       "    </tr>\n",
       "  </thead>\n",
       "  <tbody>\n",
       "    <tr>\n",
       "      <th>0</th>\n",
       "      <td>1</td>\n",
       "      <td>[880007, 883616, 931136, 938004, 940947, 94726...</td>\n",
       "      <td>[9655212, 5577022, 10149640, 1041796, 856942]</td>\n",
       "      <td>[961554, 1004906, 9527290, 940947, 1006184, 85...</td>\n",
       "      <td>[856942, 8090541, 5577022, 940947, 1082269, 10...</td>\n",
       "      <td>[856942, 9297615, 8090541, 5577022, 940947, 96...</td>\n",
       "    </tr>\n",
       "    <tr>\n",
       "      <th>1</th>\n",
       "      <td>2</td>\n",
       "      <td>[820165, 820291, 826784, 826835, 829009, 85784...</td>\n",
       "      <td>[1106523, 1053690, 899624, 940947, 1133018]</td>\n",
       "      <td>[961554, 1004906, 5569230, 916122, 1106523, 11...</td>\n",
       "      <td>[5569230, 8090521, 916122, 1133018, 8090537, 1...</td>\n",
       "      <td>[5569230, 8090521, 8090537, 916122, 1106523, 1...</td>\n",
       "    </tr>\n",
       "  </tbody>\n",
       "</table>\n",
       "</div>"
      ],
      "text/plain": [
       "   user_id                                             actual  \\\n",
       "0        1  [880007, 883616, 931136, 938004, 940947, 94726...   \n",
       "1        2  [820165, 820291, 826784, 826835, 829009, 85784...   \n",
       "\n",
       "                                             lgb  \\\n",
       "0  [9655212, 5577022, 10149640, 1041796, 856942]   \n",
       "1    [1106523, 1053690, 899624, 940947, 1133018]   \n",
       "\n",
       "                                            own_recs  \\\n",
       "0  [961554, 1004906, 9527290, 940947, 1006184, 85...   \n",
       "1  [961554, 1004906, 5569230, 916122, 1106523, 11...   \n",
       "\n",
       "                                            als_recs  \\\n",
       "0  [856942, 8090541, 5577022, 940947, 1082269, 10...   \n",
       "1  [5569230, 8090521, 916122, 1133018, 8090537, 1...   \n",
       "\n",
       "                                         cosine_recs  \n",
       "0  [856942, 9297615, 8090541, 5577022, 940947, 96...  \n",
       "1  [5569230, 8090521, 8090537, 916122, 1106523, 1...  "
      ]
     },
     "execution_count": 340,
     "metadata": {},
     "output_type": "execute_result"
    }
   ],
   "source": [
    "for rec in (own_rec, als_rec, cosine_rec):\n",
    "    make_recommendations(result_2, rec)\n",
    "result_2.head(2)"
   ]
  },
  {
   "cell_type": "code",
   "execution_count": 341,
   "id": "190181e0",
   "metadata": {},
   "outputs": [
    {
     "data": {
      "text/plain": [
       "[('lgb', 0.26895002807411317),\n",
       " ('cosine_recs', 0.21763054463784162),\n",
       " ('als_recs', 0.20280741156653334),\n",
       " ('own_recs', 0.16720943290286203)]"
      ]
     },
     "execution_count": 341,
     "metadata": {},
     "output_type": "execute_result"
    }
   ],
   "source": [
    "sorted(calc_precision(result_2, 5), key=lambda x: x[1], reverse=True)"
   ]
  },
  {
   "cell_type": "code",
   "execution_count": 344,
   "id": "9ddeadd7",
   "metadata": {},
   "outputs": [
    {
     "data": {
      "text/html": [
       "<div>\n",
       "<style scoped>\n",
       "    .dataframe tbody tr th:only-of-type {\n",
       "        vertical-align: middle;\n",
       "    }\n",
       "\n",
       "    .dataframe tbody tr th {\n",
       "        vertical-align: top;\n",
       "    }\n",
       "\n",
       "    .dataframe thead th {\n",
       "        text-align: right;\n",
       "    }\n",
       "</style>\n",
       "<table border=\"1\" class=\"dataframe\">\n",
       "  <thead>\n",
       "    <tr style=\"text-align: right;\">\n",
       "      <th></th>\n",
       "      <th>user_id</th>\n",
       "      <th>lgb</th>\n",
       "    </tr>\n",
       "  </thead>\n",
       "  <tbody>\n",
       "    <tr>\n",
       "      <th>0</th>\n",
       "      <td>1</td>\n",
       "      <td>[9655212, 5577022, 10149640, 1041796, 856942]</td>\n",
       "    </tr>\n",
       "    <tr>\n",
       "      <th>1</th>\n",
       "      <td>2</td>\n",
       "      <td>[1106523, 1053690, 899624, 940947, 1133018]</td>\n",
       "    </tr>\n",
       "  </tbody>\n",
       "</table>\n",
       "</div>"
      ],
      "text/plain": [
       "   user_id                                            lgb\n",
       "0        1  [9655212, 5577022, 10149640, 1041796, 856942]\n",
       "1        2    [1106523, 1053690, 899624, 940947, 1133018]"
      ]
     },
     "execution_count": 344,
     "metadata": {},
     "output_type": "execute_result"
    }
   ],
   "source": [
    "path = 'C://users//andrei//ds//rs//'\n",
    "df = result_2[['user_id', 'lgb']].copy()\n",
    "df.to_csv(path + 'predictions_BAM_RS.csv', index=False)\n",
    "df.head(2)"
   ]
  },
  {
   "cell_type": "code",
   "execution_count": null,
   "id": "7ee4a9c4",
   "metadata": {},
   "outputs": [],
   "source": []
  }
 ],
 "metadata": {
  "kernelspec": {
   "display_name": "Python 3 (ipykernel)",
   "language": "python",
   "name": "python3"
  },
  "language_info": {
   "codemirror_mode": {
    "name": "ipython",
    "version": 3
   },
   "file_extension": ".py",
   "mimetype": "text/x-python",
   "name": "python",
   "nbconvert_exporter": "python",
   "pygments_lexer": "ipython3",
   "version": "3.9.12"
  }
 },
 "nbformat": 4,
 "nbformat_minor": 5
}
